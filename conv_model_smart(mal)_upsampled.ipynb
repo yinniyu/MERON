{
 "cells": [
  {
   "cell_type": "code",
   "execution_count": 1,
   "metadata": {},
   "outputs": [
    {
     "name": "stderr",
     "output_type": "stream",
     "text": [
      "/usr/local/lib/python3.5/dist-packages/h5py/__init__.py:36: FutureWarning: Conversion of the second argument of issubdtype from `float` to `np.floating` is deprecated. In future, it will be treated as `np.float64 == np.dtype(float).type`.\n",
      "  from ._conv import register_converters as _register_converters\n",
      "Using TensorFlow backend.\n"
     ]
    }
   ],
   "source": [
    "import numpy as np\n",
    "import os\n",
    "import pandas as pd\n",
    "from sklearn.model_selection import train_test_split\n",
    "from keras.callbacks import EarlyStopping, ModelCheckpoint\n",
    "from keras.models import load_model\n",
    "from sklearn.preprocessing import StandardScaler, maxabs_scale\n",
    "from keras.optimizers import Adam, SGD\n",
    "import matplotlib.pyplot as plt\n",
    "%matplotlib inline\n",
    "from sklearn.utils.class_weight import compute_class_weight\n",
    "from sklearn.metrics import roc_auc_score,f1_score, roc_curve, auc, accuracy_score, confusion_matrix\n",
    "import shutil\n"
   ]
  },
  {
   "cell_type": "code",
   "execution_count": 2,
   "metadata": {},
   "outputs": [],
   "source": [
    "from model import MeronSmart, ml_models,plot_confusion_matrix"
   ]
  },
  {
   "cell_type": "code",
   "execution_count": 3,
   "metadata": {},
   "outputs": [],
   "source": [
    "meron = MeronSmart()"
   ]
  },
  {
   "cell_type": "code",
   "execution_count": 4,
   "metadata": {},
   "outputs": [],
   "source": [
    "dense_model = meron.build_model(task_type='classification')"
   ]
  },
  {
   "cell_type": "code",
   "execution_count": 5,
   "metadata": {},
   "outputs": [
    {
     "name": "stdout",
     "output_type": "stream",
     "text": [
      "_________________________________________________________________\n",
      "Layer (type)                 Output Shape              Param #   \n",
      "=================================================================\n",
      "dense_1 (Dense)              (None, 32)                65632     \n",
      "_________________________________________________________________\n",
      "leaky_re_lu_2 (LeakyReLU)    (None, 32)                0         \n",
      "_________________________________________________________________\n",
      "dropout_1 (Dropout)          (None, 32)                0         \n",
      "_________________________________________________________________\n",
      "dense_2 (Dense)              (None, 8)                 264       \n",
      "_________________________________________________________________\n",
      "leaky_re_lu_3 (LeakyReLU)    (None, 8)                 0         \n",
      "_________________________________________________________________\n",
      "dropout_2 (Dropout)          (None, 8)                 0         \n",
      "_________________________________________________________________\n",
      "dense_3 (Dense)              (None, 3)                 27        \n",
      "=================================================================\n",
      "Total params: 65,923\n",
      "Trainable params: 65,923\n",
      "Non-trainable params: 0\n",
      "_________________________________________________________________\n"
     ]
    }
   ],
   "source": [
    "dense_model.summary()"
   ]
  },
  {
   "cell_type": "code",
   "execution_count": 6,
   "metadata": {},
   "outputs": [],
   "source": [
    "merged_df = pd.read_csv('/data/meron/kenya_data/meron_merged_mal(sam_mam_upsampled)_muac.csv')\n",
    "meta_data = pd.read_csv('/data/meron/kenya_data/meron_link_data/meron_meta_processed.csv')\n",
    "sam_names=pd.read_csv('/data/meron/sam_photo_ids.csv')\n",
    "mam_names=pd.read_csv('/data/meron/mam_photo_ids.csv')\n",
    "\n",
    "#use wfh in meta_data to filter wfh<4\n",
    "merged_df=merged_df[merged_df['wfh']<4]"
   ]
  },
  {
   "cell_type": "code",
   "execution_count": 7,
   "metadata": {},
   "outputs": [
    {
     "data": {
      "text/html": [
       "<div>\n",
       "<style scoped>\n",
       "    .dataframe tbody tr th:only-of-type {\n",
       "        vertical-align: middle;\n",
       "    }\n",
       "\n",
       "    .dataframe tbody tr th {\n",
       "        vertical-align: top;\n",
       "    }\n",
       "\n",
       "    .dataframe thead th {\n",
       "        text-align: right;\n",
       "    }\n",
       "</style>\n",
       "<table border=\"1\" class=\"dataframe\">\n",
       "  <thead>\n",
       "    <tr style=\"text-align: right;\">\n",
       "      <th></th>\n",
       "      <th>photo_id</th>\n",
       "      <th>0</th>\n",
       "      <th>1</th>\n",
       "      <th>2</th>\n",
       "      <th>3</th>\n",
       "      <th>4</th>\n",
       "      <th>5</th>\n",
       "      <th>6</th>\n",
       "      <th>7</th>\n",
       "      <th>8</th>\n",
       "      <th>...</th>\n",
       "      <th>2046</th>\n",
       "      <th>2047</th>\n",
       "      <th>gender_male</th>\n",
       "      <th>age_months</th>\n",
       "      <th>maln_mam</th>\n",
       "      <th>maln_normal</th>\n",
       "      <th>maln_sam</th>\n",
       "      <th>wfh</th>\n",
       "      <th>maln_class</th>\n",
       "      <th>muac_prediction</th>\n",
       "    </tr>\n",
       "  </thead>\n",
       "  <tbody>\n",
       "    <tr>\n",
       "      <th>0</th>\n",
       "      <td>1517384891739.jpg</td>\n",
       "      <td>0.157335</td>\n",
       "      <td>0.015997</td>\n",
       "      <td>0.707683</td>\n",
       "      <td>0.009274</td>\n",
       "      <td>0.000000</td>\n",
       "      <td>0.698504</td>\n",
       "      <td>1.974866</td>\n",
       "      <td>6.329210</td>\n",
       "      <td>0.0</td>\n",
       "      <td>...</td>\n",
       "      <td>1.867832</td>\n",
       "      <td>0.024899</td>\n",
       "      <td>0</td>\n",
       "      <td>32.0</td>\n",
       "      <td>1</td>\n",
       "      <td>0</td>\n",
       "      <td>0</td>\n",
       "      <td>-2.97</td>\n",
       "      <td>mam</td>\n",
       "      <td>normal</td>\n",
       "    </tr>\n",
       "    <tr>\n",
       "      <th>1</th>\n",
       "      <td>1517384891739.jpg</td>\n",
       "      <td>0.000000</td>\n",
       "      <td>0.000000</td>\n",
       "      <td>1.571181</td>\n",
       "      <td>0.000000</td>\n",
       "      <td>0.000000</td>\n",
       "      <td>0.627390</td>\n",
       "      <td>1.353355</td>\n",
       "      <td>6.647170</td>\n",
       "      <td>0.0</td>\n",
       "      <td>...</td>\n",
       "      <td>2.161191</td>\n",
       "      <td>0.000000</td>\n",
       "      <td>0</td>\n",
       "      <td>32.0</td>\n",
       "      <td>1</td>\n",
       "      <td>0</td>\n",
       "      <td>0</td>\n",
       "      <td>-2.97</td>\n",
       "      <td>mam</td>\n",
       "      <td>normal</td>\n",
       "    </tr>\n",
       "    <tr>\n",
       "      <th>2</th>\n",
       "      <td>1517478268776.jpg</td>\n",
       "      <td>0.045922</td>\n",
       "      <td>0.000000</td>\n",
       "      <td>3.087823</td>\n",
       "      <td>0.000000</td>\n",
       "      <td>0.331306</td>\n",
       "      <td>1.069497</td>\n",
       "      <td>1.636940</td>\n",
       "      <td>1.760356</td>\n",
       "      <td>0.0</td>\n",
       "      <td>...</td>\n",
       "      <td>4.154829</td>\n",
       "      <td>0.812403</td>\n",
       "      <td>1</td>\n",
       "      <td>19.0</td>\n",
       "      <td>1</td>\n",
       "      <td>0</td>\n",
       "      <td>0</td>\n",
       "      <td>-2.09</td>\n",
       "      <td>mam</td>\n",
       "      <td>normal</td>\n",
       "    </tr>\n",
       "    <tr>\n",
       "      <th>3</th>\n",
       "      <td>1517478268776.jpg</td>\n",
       "      <td>0.181375</td>\n",
       "      <td>0.000000</td>\n",
       "      <td>3.747156</td>\n",
       "      <td>0.022242</td>\n",
       "      <td>1.065049</td>\n",
       "      <td>1.856126</td>\n",
       "      <td>1.670891</td>\n",
       "      <td>2.034269</td>\n",
       "      <td>0.0</td>\n",
       "      <td>...</td>\n",
       "      <td>3.283012</td>\n",
       "      <td>1.401969</td>\n",
       "      <td>1</td>\n",
       "      <td>19.0</td>\n",
       "      <td>1</td>\n",
       "      <td>0</td>\n",
       "      <td>0</td>\n",
       "      <td>-2.09</td>\n",
       "      <td>mam</td>\n",
       "      <td>normal</td>\n",
       "    </tr>\n",
       "    <tr>\n",
       "      <th>4</th>\n",
       "      <td>1517238175403.jpg</td>\n",
       "      <td>0.000000</td>\n",
       "      <td>0.369026</td>\n",
       "      <td>2.461378</td>\n",
       "      <td>2.946527</td>\n",
       "      <td>0.661946</td>\n",
       "      <td>4.072535</td>\n",
       "      <td>0.526728</td>\n",
       "      <td>6.682256</td>\n",
       "      <td>0.0</td>\n",
       "      <td>...</td>\n",
       "      <td>2.062518</td>\n",
       "      <td>0.352439</td>\n",
       "      <td>1</td>\n",
       "      <td>18.0</td>\n",
       "      <td>0</td>\n",
       "      <td>1</td>\n",
       "      <td>0</td>\n",
       "      <td>-1.16</td>\n",
       "      <td>normal</td>\n",
       "      <td>normal</td>\n",
       "    </tr>\n",
       "  </tbody>\n",
       "</table>\n",
       "<p>5 rows × 2057 columns</p>\n",
       "</div>"
      ],
      "text/plain": [
       "            photo_id         0         1         2         3         4  \\\n",
       "0  1517384891739.jpg  0.157335  0.015997  0.707683  0.009274  0.000000   \n",
       "1  1517384891739.jpg  0.000000  0.000000  1.571181  0.000000  0.000000   \n",
       "2  1517478268776.jpg  0.045922  0.000000  3.087823  0.000000  0.331306   \n",
       "3  1517478268776.jpg  0.181375  0.000000  3.747156  0.022242  1.065049   \n",
       "4  1517238175403.jpg  0.000000  0.369026  2.461378  2.946527  0.661946   \n",
       "\n",
       "          5         6         7    8       ...             2046      2047  \\\n",
       "0  0.698504  1.974866  6.329210  0.0       ...         1.867832  0.024899   \n",
       "1  0.627390  1.353355  6.647170  0.0       ...         2.161191  0.000000   \n",
       "2  1.069497  1.636940  1.760356  0.0       ...         4.154829  0.812403   \n",
       "3  1.856126  1.670891  2.034269  0.0       ...         3.283012  1.401969   \n",
       "4  4.072535  0.526728  6.682256  0.0       ...         2.062518  0.352439   \n",
       "\n",
       "   gender_male  age_months  maln_mam  maln_normal  maln_sam   wfh  maln_class  \\\n",
       "0            0        32.0         1            0         0 -2.97         mam   \n",
       "1            0        32.0         1            0         0 -2.97         mam   \n",
       "2            1        19.0         1            0         0 -2.09         mam   \n",
       "3            1        19.0         1            0         0 -2.09         mam   \n",
       "4            1        18.0         0            1         0 -1.16      normal   \n",
       "\n",
       "   muac_prediction  \n",
       "0           normal  \n",
       "1           normal  \n",
       "2           normal  \n",
       "3           normal  \n",
       "4           normal  \n",
       "\n",
       "[5 rows x 2057 columns]"
      ]
     },
     "execution_count": 7,
     "metadata": {},
     "output_type": "execute_result"
    }
   ],
   "source": [
    "merged_df.head()"
   ]
  },
  {
   "cell_type": "markdown",
   "metadata": {},
   "source": [
    "# separate the sam samples so duplicates(flipped image) are not distributed evenly in training and test. samples in validation set are not seen in training"
   ]
  },
  {
   "cell_type": "code",
   "execution_count": 7,
   "metadata": {},
   "outputs": [],
   "source": [
    "sam_samples=merged_df.loc[merged_df['photo_id'].isin(sam_names['photo_id'])]\n",
    "mam_samples=merged_df.loc[merged_df['photo_id'].isin(mam_names['photo_id'])]\n",
    "\n",
    "other_samples=merged_df.loc[~merged_df['photo_id'].isin(sam_names['photo_id'])].loc[~merged_df['photo_id'].isin(mam_names['photo_id'])]"
   ]
  },
  {
   "cell_type": "code",
   "execution_count": 8,
   "metadata": {},
   "outputs": [
    {
     "name": "stdout",
     "output_type": "stream",
     "text": [
      "sam sample size:(228, 2057)\n",
      "mam sample size:(944, 2057)\n",
      "other sample size:(3019, 2057)\n"
     ]
    }
   ],
   "source": [
    "print('sam sample size:{}'.format(sam_samples.shape))\n",
    "print('mam sample size:{}'.format(mam_samples.shape))\n",
    "print('other sample size:{}'.format(other_samples.shape))"
   ]
  },
  {
   "cell_type": "code",
   "execution_count": 9,
   "metadata": {},
   "outputs": [
    {
     "name": "stdout",
     "output_type": "stream",
     "text": [
      "sam training size:(188, 2057)\n",
      "sam val size:(40, 2057)\n"
     ]
    }
   ],
   "source": [
    "sam_train=sam_samples[:188]\n",
    "sam_validation=sam_samples[188:]\n",
    "print('sam training size:{}'.format(sam_train.shape))\n",
    "print('sam val size:{}'.format(sam_validation.shape))"
   ]
  },
  {
   "cell_type": "code",
   "execution_count": 10,
   "metadata": {},
   "outputs": [
    {
     "name": "stdout",
     "output_type": "stream",
     "text": [
      "mam training size:(750, 2057)\n",
      "mam val size:(194, 2057)\n"
     ]
    }
   ],
   "source": [
    "mam_train=mam_samples[:750]\n",
    "mam_validation=mam_samples[750:]\n",
    "print('mam training size:{}'.format(mam_train.shape))\n",
    "print('mam val size:{}'.format(mam_validation.shape))"
   ]
  },
  {
   "cell_type": "code",
   "execution_count": 11,
   "metadata": {},
   "outputs": [],
   "source": [
    "target_sam_train = np.array(sam_train[['maln_mam','maln_normal','maln_sam']])\n",
    "target_sam_validation=np.array(sam_validation[['maln_mam','maln_normal','maln_sam']])\n",
    "target_sam_muac_validation=np.array(sam_validation['muac_prediction'])\n",
    "\n",
    "\n",
    "target_mam_train = np.array(mam_train[['maln_mam','maln_normal','maln_sam']])\n",
    "target_mam_validation=np.array(mam_validation[['maln_mam','maln_normal','maln_sam']])\n",
    "target_mam_muac_validation=np.array(mam_validation['muac_prediction'])\n",
    "\n",
    "\n",
    "target_other=np.array(other_samples[['maln_mam','maln_normal','maln_sam']])\n",
    "target_other_muac_validation=np.array(other_samples['muac_prediction'])"
   ]
  },
  {
   "cell_type": "code",
   "execution_count": 11,
   "metadata": {},
   "outputs": [
    {
     "name": "stdout",
     "output_type": "stream",
     "text": [
      "proportion of normal in dataset: 0.7146265807683131\n",
      "number of sam: 232\n",
      "number of mam: 964\n",
      "number of normal: 2995\n"
     ]
    }
   ],
   "source": [
    "num_mam = merged_df['maln_mam'].sum()\n",
    "num_normal = merged_df['maln_normal'].sum()\n",
    "num_sam = merged_df['maln_sam'].sum()\n",
    "counts = [num_mam, num_normal, num_sam]\n",
    "names = ('mam', 'normal','sam')\n",
    "print('proportion of normal in dataset: {}'.format(num_normal/np.sum(counts)))\n",
    "print('number of sam: {}'.format(num_sam))\n",
    "print('number of mam: {}'.format(num_mam))\n",
    "print('number of normal: {}'.format(num_normal))"
   ]
  },
  {
   "cell_type": "code",
   "execution_count": 12,
   "metadata": {},
   "outputs": [],
   "source": [
    "deselect_cols = ['photo_id','maln_mam','maln_normal','maln_sam','wfh','maln_class', 'muac_prediction']"
   ]
  },
  {
   "cell_type": "code",
   "execution_count": 13,
   "metadata": {},
   "outputs": [
    {
     "data": {
      "text/html": [
       "<div>\n",
       "<style scoped>\n",
       "    .dataframe tbody tr th:only-of-type {\n",
       "        vertical-align: middle;\n",
       "    }\n",
       "\n",
       "    .dataframe tbody tr th {\n",
       "        vertical-align: top;\n",
       "    }\n",
       "\n",
       "    .dataframe thead th {\n",
       "        text-align: right;\n",
       "    }\n",
       "</style>\n",
       "<table border=\"1\" class=\"dataframe\">\n",
       "  <thead>\n",
       "    <tr style=\"text-align: right;\">\n",
       "      <th></th>\n",
       "      <th>0</th>\n",
       "      <th>1</th>\n",
       "      <th>2</th>\n",
       "      <th>3</th>\n",
       "      <th>4</th>\n",
       "      <th>5</th>\n",
       "      <th>6</th>\n",
       "      <th>7</th>\n",
       "      <th>8</th>\n",
       "      <th>9</th>\n",
       "      <th>...</th>\n",
       "      <th>2040</th>\n",
       "      <th>2041</th>\n",
       "      <th>2042</th>\n",
       "      <th>2043</th>\n",
       "      <th>2044</th>\n",
       "      <th>2045</th>\n",
       "      <th>2046</th>\n",
       "      <th>2047</th>\n",
       "      <th>gender_male</th>\n",
       "      <th>age_months</th>\n",
       "    </tr>\n",
       "  </thead>\n",
       "  <tbody>\n",
       "    <tr>\n",
       "      <th>4</th>\n",
       "      <td>0.000000</td>\n",
       "      <td>0.369026</td>\n",
       "      <td>2.461378</td>\n",
       "      <td>2.946527</td>\n",
       "      <td>0.661946</td>\n",
       "      <td>4.072535</td>\n",
       "      <td>0.526728</td>\n",
       "      <td>6.682256</td>\n",
       "      <td>0.000000</td>\n",
       "      <td>0.0</td>\n",
       "      <td>...</td>\n",
       "      <td>0.687893</td>\n",
       "      <td>0.000000</td>\n",
       "      <td>0.000000</td>\n",
       "      <td>1.743518</td>\n",
       "      <td>0.575827</td>\n",
       "      <td>0.000000</td>\n",
       "      <td>2.062518</td>\n",
       "      <td>0.352439</td>\n",
       "      <td>1</td>\n",
       "      <td>18.0</td>\n",
       "    </tr>\n",
       "    <tr>\n",
       "      <th>9</th>\n",
       "      <td>6.018714</td>\n",
       "      <td>0.000000</td>\n",
       "      <td>4.922188</td>\n",
       "      <td>0.250943</td>\n",
       "      <td>3.632266</td>\n",
       "      <td>0.441533</td>\n",
       "      <td>2.783796</td>\n",
       "      <td>9.161777</td>\n",
       "      <td>0.000000</td>\n",
       "      <td>0.0</td>\n",
       "      <td>...</td>\n",
       "      <td>0.000000</td>\n",
       "      <td>0.000000</td>\n",
       "      <td>0.451506</td>\n",
       "      <td>3.653616</td>\n",
       "      <td>0.734750</td>\n",
       "      <td>0.000000</td>\n",
       "      <td>0.000000</td>\n",
       "      <td>0.000000</td>\n",
       "      <td>0</td>\n",
       "      <td>25.0</td>\n",
       "    </tr>\n",
       "    <tr>\n",
       "      <th>10</th>\n",
       "      <td>0.302067</td>\n",
       "      <td>0.000000</td>\n",
       "      <td>0.856374</td>\n",
       "      <td>4.006856</td>\n",
       "      <td>0.000000</td>\n",
       "      <td>0.476372</td>\n",
       "      <td>4.314477</td>\n",
       "      <td>11.858264</td>\n",
       "      <td>0.000000</td>\n",
       "      <td>0.0</td>\n",
       "      <td>...</td>\n",
       "      <td>1.534502</td>\n",
       "      <td>0.000000</td>\n",
       "      <td>0.453811</td>\n",
       "      <td>16.605633</td>\n",
       "      <td>0.000000</td>\n",
       "      <td>0.845772</td>\n",
       "      <td>0.506828</td>\n",
       "      <td>0.000000</td>\n",
       "      <td>1</td>\n",
       "      <td>40.0</td>\n",
       "    </tr>\n",
       "    <tr>\n",
       "      <th>11</th>\n",
       "      <td>0.000000</td>\n",
       "      <td>0.296940</td>\n",
       "      <td>4.927894</td>\n",
       "      <td>0.212098</td>\n",
       "      <td>0.008911</td>\n",
       "      <td>1.134834</td>\n",
       "      <td>3.333884</td>\n",
       "      <td>2.954910</td>\n",
       "      <td>1.047672</td>\n",
       "      <td>0.0</td>\n",
       "      <td>...</td>\n",
       "      <td>1.352508</td>\n",
       "      <td>0.005078</td>\n",
       "      <td>0.010983</td>\n",
       "      <td>8.271940</td>\n",
       "      <td>0.000000</td>\n",
       "      <td>0.000000</td>\n",
       "      <td>0.876071</td>\n",
       "      <td>0.032372</td>\n",
       "      <td>0</td>\n",
       "      <td>41.0</td>\n",
       "    </tr>\n",
       "    <tr>\n",
       "      <th>12</th>\n",
       "      <td>0.000000</td>\n",
       "      <td>0.228124</td>\n",
       "      <td>0.801086</td>\n",
       "      <td>0.476915</td>\n",
       "      <td>1.492239</td>\n",
       "      <td>1.457904</td>\n",
       "      <td>1.052291</td>\n",
       "      <td>18.379776</td>\n",
       "      <td>0.000000</td>\n",
       "      <td>0.0</td>\n",
       "      <td>...</td>\n",
       "      <td>0.005074</td>\n",
       "      <td>0.000000</td>\n",
       "      <td>0.000000</td>\n",
       "      <td>12.780549</td>\n",
       "      <td>0.740513</td>\n",
       "      <td>0.000000</td>\n",
       "      <td>1.912864</td>\n",
       "      <td>1.549561</td>\n",
       "      <td>0</td>\n",
       "      <td>28.0</td>\n",
       "    </tr>\n",
       "  </tbody>\n",
       "</table>\n",
       "<p>5 rows × 2050 columns</p>\n",
       "</div>"
      ],
      "text/plain": [
       "           0         1         2         3         4         5         6  \\\n",
       "4   0.000000  0.369026  2.461378  2.946527  0.661946  4.072535  0.526728   \n",
       "9   6.018714  0.000000  4.922188  0.250943  3.632266  0.441533  2.783796   \n",
       "10  0.302067  0.000000  0.856374  4.006856  0.000000  0.476372  4.314477   \n",
       "11  0.000000  0.296940  4.927894  0.212098  0.008911  1.134834  3.333884   \n",
       "12  0.000000  0.228124  0.801086  0.476915  1.492239  1.457904  1.052291   \n",
       "\n",
       "            7         8    9     ...          2040      2041      2042  \\\n",
       "4    6.682256  0.000000  0.0     ...      0.687893  0.000000  0.000000   \n",
       "9    9.161777  0.000000  0.0     ...      0.000000  0.000000  0.451506   \n",
       "10  11.858264  0.000000  0.0     ...      1.534502  0.000000  0.453811   \n",
       "11   2.954910  1.047672  0.0     ...      1.352508  0.005078  0.010983   \n",
       "12  18.379776  0.000000  0.0     ...      0.005074  0.000000  0.000000   \n",
       "\n",
       "         2043      2044      2045      2046      2047  gender_male  age_months  \n",
       "4    1.743518  0.575827  0.000000  2.062518  0.352439            1        18.0  \n",
       "9    3.653616  0.734750  0.000000  0.000000  0.000000            0        25.0  \n",
       "10  16.605633  0.000000  0.845772  0.506828  0.000000            1        40.0  \n",
       "11   8.271940  0.000000  0.000000  0.876071  0.032372            0        41.0  \n",
       "12  12.780549  0.740513  0.000000  1.912864  1.549561            0        28.0  \n",
       "\n",
       "[5 rows x 2050 columns]"
      ]
     },
     "execution_count": 13,
     "metadata": {},
     "output_type": "execute_result"
    }
   ],
   "source": [
    "select = [x for x in merged_df.columns if x not in deselect_cols]\n",
    "sam_train_features = sam_train.loc[:, select]\n",
    "sam_validation_features = sam_validation.loc[:, select]\n",
    "\n",
    "mam_train_features = mam_train.loc[:, select]\n",
    "mam_validation_features = mam_validation.loc[:, select]\n",
    "\n",
    "other_features=other_samples.loc[:, select]\n",
    "other_features.head()"
   ]
  },
  {
   "cell_type": "markdown",
   "metadata": {},
   "source": [
    "# Split data into training and testing sets, then train model"
   ]
  },
  {
   "cell_type": "code",
   "execution_count": 16,
   "metadata": {},
   "outputs": [],
   "source": [
    "whole_data=pd.concat([other_features, sam_train_features, sam_validation_features,mam_train_features,mam_validation_features], axis=0)"
   ]
  },
  {
   "cell_type": "code",
   "execution_count": 17,
   "metadata": {},
   "outputs": [],
   "source": [
    "### scale/standardize the features?\n",
    "conv_scaler = StandardScaler().fit(whole_data)\n",
    "sam_train_features_scaled = conv_scaler.transform(sam_train_features)\n",
    "sam_validation_features_scaled=conv_scaler.transform(sam_validation_features)\n",
    "\n",
    "mam_train_features_scaled = conv_scaler.transform(mam_train_features)\n",
    "mam_validation_features_scaled=conv_scaler.transform(mam_validation_features)\n",
    "\n",
    "other_features_scaled=conv_scaler.transform(other_features)"
   ]
  },
  {
   "cell_type": "code",
   "execution_count": 18,
   "metadata": {},
   "outputs": [],
   "source": [
    "from sklearn.externals import joblib "
   ]
  },
  {
   "cell_type": "code",
   "execution_count": 19,
   "metadata": {},
   "outputs": [
    {
     "data": {
      "text/plain": [
       "['/data/meron/standard_scaler_meron.pkl']"
      ]
     },
     "execution_count": 19,
     "metadata": {},
     "output_type": "execute_result"
    }
   ],
   "source": [
    "joblib.dump(conv_scaler, '/data/meron/standard_scaler_meron.pkl') "
   ]
  },
  {
   "cell_type": "code",
   "execution_count": 28,
   "metadata": {},
   "outputs": [],
   "source": [
    "### Break data into training and test (stratified)\n",
    "X_train1, X_test1, y_train1, y_test1 = train_test_split(other_features_scaled, target_other, test_size=0.2, \n",
    "                                                        random_state=42, stratify=target_other)\n",
    "\n",
    "X_train=np.concatenate((X_train1,sam_train_features_scaled,mam_train_features_scaled), axis=0)\n",
    "y_train=np.concatenate((y_train1,target_sam_train,target_mam_train), axis=0)\n",
    "\n",
    "X_test=np.concatenate((X_test1,sam_validation_features_scaled,mam_validation_features_scaled), axis=0)\n",
    "y_test=np.concatenate((y_test1,target_sam_validation, target_mam_validation), axis=0)"
   ]
  },
  {
   "cell_type": "code",
   "execution_count": null,
   "metadata": {},
   "outputs": [],
   "source": []
  },
  {
   "cell_type": "code",
   "execution_count": 18,
   "metadata": {},
   "outputs": [],
   "source": [
    "### fetch data with muac_prediction, only care about the target for validation\n",
    "X_train2, X_test2, y_train2, y_test2 = train_test_split(other_samples, target_other, test_size=0.2, \n",
    "                                                        random_state=42, stratify=target_other)\n",
    "\n",
    "#X_test=np.concatenate((X_test1,sam_validation_features_scaled,mam_validation_features_scaled), axis=0)\n",
    "y_test_muac=np.concatenate((X_test2['muac_prediction'],target_sam_muac_validation, target_mam_muac_validation), axis=0)"
   ]
  },
  {
   "cell_type": "code",
   "execution_count": 20,
   "metadata": {},
   "outputs": [
    {
     "name": "stdout",
     "output_type": "stream",
     "text": [
      "(3353, 2050)\n",
      "(838, 2050)\n"
     ]
    }
   ],
   "source": [
    "print(X_train.shape)\n",
    "print(X_test.shape)"
   ]
  },
  {
   "cell_type": "code",
   "execution_count": 17,
   "metadata": {},
   "outputs": [],
   "source": [
    "early_stop = EarlyStopping(monitor='val_loss', patience=5)\n",
    "checkpoint = ModelCheckpoint('dense_resnetfeats_32_8(dropout05_upsampled2x)_leakyrelu07.h5', monitor='val_loss', verbose=1,\n",
    "                             save_best_only=True, mode='min')"
   ]
  },
  {
   "cell_type": "code",
   "execution_count": 22,
   "metadata": {},
   "outputs": [
    {
     "data": {
      "text/plain": [
       "array([1.44917012, 0.46644407, 6.02155172])"
      ]
     },
     "execution_count": 22,
     "metadata": {},
     "output_type": "execute_result"
    }
   ],
   "source": [
    "## compute class weight\n",
    "w = compute_class_weight('balanced', np.unique(merged_df.maln_class), merged_df.maln_class)\n",
    "w"
   ]
  },
  {
   "cell_type": "markdown",
   "metadata": {},
   "source": [
    "dense_model.compile(loss='categorical_crossentropy',\n",
    "                               optimizer=Adam(lr=1e-4),\n",
    "                               metrics=['accuracy'])"
   ]
  },
  {
   "cell_type": "code",
   "execution_count": 18,
   "metadata": {},
   "outputs": [
    {
     "name": "stdout",
     "output_type": "stream",
     "text": [
      "Train on 3353 samples, validate on 838 samples\n",
      "Epoch 1/1000\n",
      "3353/3353 [==============================] - 1s 169us/step - loss: 2.1581 - acc: 0.3457 - val_loss: 1.4660 - val_acc: 0.3663\n",
      "\n",
      "Epoch 00001: val_loss improved from inf to 1.46597, saving model to dense_resnetfeats_32_8(dropout05_upsampled2x)_leakyrelu07.h5\n",
      "Epoch 2/1000\n",
      "3353/3353 [==============================] - 0s 26us/step - loss: 2.1053 - acc: 0.3367 - val_loss: 1.4235 - val_acc: 0.3675\n",
      "\n",
      "Epoch 00002: val_loss improved from 1.46597 to 1.42348, saving model to dense_resnetfeats_32_8(dropout05_upsampled2x)_leakyrelu07.h5\n",
      "Epoch 3/1000\n",
      "3353/3353 [==============================] - 0s 26us/step - loss: 1.9713 - acc: 0.3627 - val_loss: 1.3923 - val_acc: 0.3640\n",
      "\n",
      "Epoch 00003: val_loss improved from 1.42348 to 1.39234, saving model to dense_resnetfeats_32_8(dropout05_upsampled2x)_leakyrelu07.h5\n",
      "Epoch 4/1000\n",
      "3353/3353 [==============================] - 0s 25us/step - loss: 1.8912 - acc: 0.3659 - val_loss: 1.3710 - val_acc: 0.3652\n",
      "\n",
      "Epoch 00004: val_loss improved from 1.39234 to 1.37099, saving model to dense_resnetfeats_32_8(dropout05_upsampled2x)_leakyrelu07.h5\n",
      "Epoch 5/1000\n",
      "3353/3353 [==============================] - 0s 26us/step - loss: 1.8517 - acc: 0.3528 - val_loss: 1.3522 - val_acc: 0.3711\n",
      "\n",
      "Epoch 00005: val_loss improved from 1.37099 to 1.35224, saving model to dense_resnetfeats_32_8(dropout05_upsampled2x)_leakyrelu07.h5\n",
      "Epoch 6/1000\n",
      "3353/3353 [==============================] - 0s 27us/step - loss: 1.8481 - acc: 0.3609 - val_loss: 1.3381 - val_acc: 0.3759\n",
      "\n",
      "Epoch 00006: val_loss improved from 1.35224 to 1.33806, saving model to dense_resnetfeats_32_8(dropout05_upsampled2x)_leakyrelu07.h5\n",
      "Epoch 7/1000\n",
      "3353/3353 [==============================] - 0s 27us/step - loss: 1.7785 - acc: 0.3606 - val_loss: 1.3265 - val_acc: 0.3783\n",
      "\n",
      "Epoch 00007: val_loss improved from 1.33806 to 1.32652, saving model to dense_resnetfeats_32_8(dropout05_upsampled2x)_leakyrelu07.h5\n",
      "Epoch 8/1000\n",
      "3353/3353 [==============================] - 0s 27us/step - loss: 1.7749 - acc: 0.3561 - val_loss: 1.3183 - val_acc: 0.3819\n",
      "\n",
      "Epoch 00008: val_loss improved from 1.32652 to 1.31827, saving model to dense_resnetfeats_32_8(dropout05_upsampled2x)_leakyrelu07.h5\n",
      "Epoch 9/1000\n",
      "3353/3353 [==============================] - 0s 27us/step - loss: 1.7674 - acc: 0.3740 - val_loss: 1.3100 - val_acc: 0.3878\n",
      "\n",
      "Epoch 00009: val_loss improved from 1.31827 to 1.31002, saving model to dense_resnetfeats_32_8(dropout05_upsampled2x)_leakyrelu07.h5\n",
      "Epoch 10/1000\n",
      "3353/3353 [==============================] - 0s 27us/step - loss: 1.7086 - acc: 0.3686 - val_loss: 1.3002 - val_acc: 0.3926\n",
      "\n",
      "Epoch 00010: val_loss improved from 1.31002 to 1.30021, saving model to dense_resnetfeats_32_8(dropout05_upsampled2x)_leakyrelu07.h5\n",
      "Epoch 11/1000\n",
      "3353/3353 [==============================] - 0s 26us/step - loss: 1.7043 - acc: 0.3767 - val_loss: 1.2920 - val_acc: 0.3974\n",
      "\n",
      "Epoch 00011: val_loss improved from 1.30021 to 1.29203, saving model to dense_resnetfeats_32_8(dropout05_upsampled2x)_leakyrelu07.h5\n",
      "Epoch 12/1000\n",
      "3353/3353 [==============================] - 0s 27us/step - loss: 1.6386 - acc: 0.3642 - val_loss: 1.2855 - val_acc: 0.4117\n",
      "\n",
      "Epoch 00012: val_loss improved from 1.29203 to 1.28554, saving model to dense_resnetfeats_32_8(dropout05_upsampled2x)_leakyrelu07.h5\n",
      "Epoch 13/1000\n",
      "3353/3353 [==============================] - 0s 26us/step - loss: 1.6521 - acc: 0.3713 - val_loss: 1.2797 - val_acc: 0.4105\n",
      "\n",
      "Epoch 00013: val_loss improved from 1.28554 to 1.27972, saving model to dense_resnetfeats_32_8(dropout05_upsampled2x)_leakyrelu07.h5\n",
      "Epoch 14/1000\n",
      "3353/3353 [==============================] - 0s 26us/step - loss: 1.5755 - acc: 0.3713 - val_loss: 1.2738 - val_acc: 0.4141\n",
      "\n",
      "Epoch 00014: val_loss improved from 1.27972 to 1.27381, saving model to dense_resnetfeats_32_8(dropout05_upsampled2x)_leakyrelu07.h5\n",
      "Epoch 15/1000\n",
      "3353/3353 [==============================] - 0s 26us/step - loss: 1.5553 - acc: 0.3913 - val_loss: 1.2688 - val_acc: 0.4212\n",
      "\n",
      "Epoch 00015: val_loss improved from 1.27381 to 1.26882, saving model to dense_resnetfeats_32_8(dropout05_upsampled2x)_leakyrelu07.h5\n",
      "Epoch 16/1000\n",
      "3353/3353 [==============================] - 0s 26us/step - loss: 1.5496 - acc: 0.3868 - val_loss: 1.2644 - val_acc: 0.4224\n",
      "\n",
      "Epoch 00016: val_loss improved from 1.26882 to 1.26436, saving model to dense_resnetfeats_32_8(dropout05_upsampled2x)_leakyrelu07.h5\n",
      "Epoch 17/1000\n",
      "3353/3353 [==============================] - 0s 33us/step - loss: 1.5063 - acc: 0.3844 - val_loss: 1.2607 - val_acc: 0.4296\n",
      "\n",
      "Epoch 00017: val_loss improved from 1.26436 to 1.26065, saving model to dense_resnetfeats_32_8(dropout05_upsampled2x)_leakyrelu07.h5\n",
      "Epoch 18/1000\n",
      "3353/3353 [==============================] - 0s 27us/step - loss: 1.5053 - acc: 0.3996 - val_loss: 1.2551 - val_acc: 0.4260\n",
      "\n",
      "Epoch 00018: val_loss improved from 1.26065 to 1.25508, saving model to dense_resnetfeats_32_8(dropout05_upsampled2x)_leakyrelu07.h5\n",
      "Epoch 19/1000\n",
      "3353/3353 [==============================] - 0s 27us/step - loss: 1.5235 - acc: 0.3841 - val_loss: 1.2507 - val_acc: 0.4272\n",
      "\n",
      "Epoch 00019: val_loss improved from 1.25508 to 1.25071, saving model to dense_resnetfeats_32_8(dropout05_upsampled2x)_leakyrelu07.h5\n",
      "Epoch 20/1000\n",
      "3353/3353 [==============================] - 0s 26us/step - loss: 1.5046 - acc: 0.3892 - val_loss: 1.2486 - val_acc: 0.4332\n",
      "\n",
      "Epoch 00020: val_loss improved from 1.25071 to 1.24863, saving model to dense_resnetfeats_32_8(dropout05_upsampled2x)_leakyrelu07.h5\n",
      "Epoch 21/1000\n",
      "3353/3353 [==============================] - 0s 27us/step - loss: 1.5052 - acc: 0.3967 - val_loss: 1.2457 - val_acc: 0.4332\n",
      "\n",
      "Epoch 00021: val_loss improved from 1.24863 to 1.24574, saving model to dense_resnetfeats_32_8(dropout05_upsampled2x)_leakyrelu07.h5\n",
      "Epoch 22/1000\n",
      "3353/3353 [==============================] - 0s 27us/step - loss: 1.4404 - acc: 0.3913 - val_loss: 1.2439 - val_acc: 0.4296\n",
      "\n",
      "Epoch 00022: val_loss improved from 1.24574 to 1.24389, saving model to dense_resnetfeats_32_8(dropout05_upsampled2x)_leakyrelu07.h5\n",
      "Epoch 23/1000\n",
      "3353/3353 [==============================] - 0s 27us/step - loss: 1.4985 - acc: 0.3979 - val_loss: 1.2416 - val_acc: 0.4332\n",
      "\n",
      "Epoch 00023: val_loss improved from 1.24389 to 1.24159, saving model to dense_resnetfeats_32_8(dropout05_upsampled2x)_leakyrelu07.h5\n",
      "Epoch 24/1000\n",
      "3353/3353 [==============================] - 0s 27us/step - loss: 1.4230 - acc: 0.4029 - val_loss: 1.2385 - val_acc: 0.4308\n",
      "\n",
      "Epoch 00024: val_loss improved from 1.24159 to 1.23846, saving model to dense_resnetfeats_32_8(dropout05_upsampled2x)_leakyrelu07.h5\n",
      "Epoch 25/1000\n",
      "3353/3353 [==============================] - 0s 27us/step - loss: 1.4112 - acc: 0.3949 - val_loss: 1.2352 - val_acc: 0.4308\n",
      "\n",
      "Epoch 00025: val_loss improved from 1.23846 to 1.23515, saving model to dense_resnetfeats_32_8(dropout05_upsampled2x)_leakyrelu07.h5\n",
      "Epoch 26/1000\n",
      "3353/3353 [==============================] - 0s 27us/step - loss: 1.4024 - acc: 0.4014 - val_loss: 1.2334 - val_acc: 0.4272\n",
      "\n",
      "Epoch 00026: val_loss improved from 1.23515 to 1.23345, saving model to dense_resnetfeats_32_8(dropout05_upsampled2x)_leakyrelu07.h5\n",
      "Epoch 27/1000\n",
      "3353/3353 [==============================] - 0s 26us/step - loss: 1.4199 - acc: 0.4107 - val_loss: 1.2317 - val_acc: 0.4212\n",
      "\n",
      "Epoch 00027: val_loss improved from 1.23345 to 1.23174, saving model to dense_resnetfeats_32_8(dropout05_upsampled2x)_leakyrelu07.h5\n",
      "Epoch 28/1000\n",
      "3353/3353 [==============================] - 0s 27us/step - loss: 1.3607 - acc: 0.4110 - val_loss: 1.2298 - val_acc: 0.4153\n",
      "\n",
      "Epoch 00028: val_loss improved from 1.23174 to 1.22985, saving model to dense_resnetfeats_32_8(dropout05_upsampled2x)_leakyrelu07.h5\n",
      "Epoch 29/1000\n",
      "3353/3353 [==============================] - 0s 26us/step - loss: 1.3653 - acc: 0.4038 - val_loss: 1.2260 - val_acc: 0.4177\n",
      "\n",
      "Epoch 00029: val_loss improved from 1.22985 to 1.22603, saving model to dense_resnetfeats_32_8(dropout05_upsampled2x)_leakyrelu07.h5\n",
      "Epoch 30/1000\n",
      "3353/3353 [==============================] - 0s 27us/step - loss: 1.2878 - acc: 0.4193 - val_loss: 1.2230 - val_acc: 0.4236\n",
      "\n",
      "Epoch 00030: val_loss improved from 1.22603 to 1.22299, saving model to dense_resnetfeats_32_8(dropout05_upsampled2x)_leakyrelu07.h5\n",
      "Epoch 31/1000\n"
     ]
    },
    {
     "name": "stdout",
     "output_type": "stream",
     "text": [
      "3353/3353 [==============================] - 0s 26us/step - loss: 1.3284 - acc: 0.4113 - val_loss: 1.2205 - val_acc: 0.4224\n",
      "\n",
      "Epoch 00031: val_loss improved from 1.22299 to 1.22050, saving model to dense_resnetfeats_32_8(dropout05_upsampled2x)_leakyrelu07.h5\n",
      "Epoch 32/1000\n",
      "3353/3353 [==============================] - 0s 26us/step - loss: 1.3239 - acc: 0.4125 - val_loss: 1.2192 - val_acc: 0.4189\n",
      "\n",
      "Epoch 00032: val_loss improved from 1.22050 to 1.21916, saving model to dense_resnetfeats_32_8(dropout05_upsampled2x)_leakyrelu07.h5\n",
      "Epoch 33/1000\n",
      "3353/3353 [==============================] - 0s 29us/step - loss: 1.3240 - acc: 0.4107 - val_loss: 1.2159 - val_acc: 0.4248\n",
      "\n",
      "Epoch 00033: val_loss improved from 1.21916 to 1.21591, saving model to dense_resnetfeats_32_8(dropout05_upsampled2x)_leakyrelu07.h5\n",
      "Epoch 34/1000\n",
      "3353/3353 [==============================] - 0s 35us/step - loss: 1.2823 - acc: 0.4089 - val_loss: 1.2127 - val_acc: 0.4272\n",
      "\n",
      "Epoch 00034: val_loss improved from 1.21591 to 1.21273, saving model to dense_resnetfeats_32_8(dropout05_upsampled2x)_leakyrelu07.h5\n",
      "Epoch 35/1000\n",
      "3353/3353 [==============================] - 0s 27us/step - loss: 1.2878 - acc: 0.4184 - val_loss: 1.2094 - val_acc: 0.4272\n",
      "\n",
      "Epoch 00035: val_loss improved from 1.21273 to 1.20938, saving model to dense_resnetfeats_32_8(dropout05_upsampled2x)_leakyrelu07.h5\n",
      "Epoch 36/1000\n",
      "3353/3353 [==============================] - 0s 28us/step - loss: 1.2659 - acc: 0.4274 - val_loss: 1.2068 - val_acc: 0.4320\n",
      "\n",
      "Epoch 00036: val_loss improved from 1.20938 to 1.20675, saving model to dense_resnetfeats_32_8(dropout05_upsampled2x)_leakyrelu07.h5\n",
      "Epoch 37/1000\n",
      "3353/3353 [==============================] - 0s 27us/step - loss: 1.2619 - acc: 0.4214 - val_loss: 1.2060 - val_acc: 0.4320\n",
      "\n",
      "Epoch 00037: val_loss improved from 1.20675 to 1.20602, saving model to dense_resnetfeats_32_8(dropout05_upsampled2x)_leakyrelu07.h5\n",
      "Epoch 38/1000\n",
      "3353/3353 [==============================] - 0s 28us/step - loss: 1.2731 - acc: 0.4289 - val_loss: 1.2054 - val_acc: 0.4296\n",
      "\n",
      "Epoch 00038: val_loss improved from 1.20602 to 1.20537, saving model to dense_resnetfeats_32_8(dropout05_upsampled2x)_leakyrelu07.h5\n",
      "Epoch 39/1000\n",
      "3353/3353 [==============================] - 0s 29us/step - loss: 1.2605 - acc: 0.4283 - val_loss: 1.2039 - val_acc: 0.4308\n",
      "\n",
      "Epoch 00039: val_loss improved from 1.20537 to 1.20388, saving model to dense_resnetfeats_32_8(dropout05_upsampled2x)_leakyrelu07.h5\n",
      "Epoch 40/1000\n",
      "3353/3353 [==============================] - 0s 29us/step - loss: 1.2022 - acc: 0.4366 - val_loss: 1.2023 - val_acc: 0.4272\n",
      "\n",
      "Epoch 00040: val_loss improved from 1.20388 to 1.20228, saving model to dense_resnetfeats_32_8(dropout05_upsampled2x)_leakyrelu07.h5\n",
      "Epoch 41/1000\n",
      "3353/3353 [==============================] - 0s 28us/step - loss: 1.2658 - acc: 0.4196 - val_loss: 1.1991 - val_acc: 0.4356\n",
      "\n",
      "Epoch 00041: val_loss improved from 1.20228 to 1.19908, saving model to dense_resnetfeats_32_8(dropout05_upsampled2x)_leakyrelu07.h5\n",
      "Epoch 42/1000\n",
      "3353/3353 [==============================] - 0s 28us/step - loss: 1.2333 - acc: 0.4208 - val_loss: 1.1948 - val_acc: 0.4427\n",
      "\n",
      "Epoch 00042: val_loss improved from 1.19908 to 1.19480, saving model to dense_resnetfeats_32_8(dropout05_upsampled2x)_leakyrelu07.h5\n",
      "Epoch 43/1000\n",
      "3353/3353 [==============================] - 0s 28us/step - loss: 1.2189 - acc: 0.4465 - val_loss: 1.1918 - val_acc: 0.4439\n",
      "\n",
      "Epoch 00043: val_loss improved from 1.19480 to 1.19178, saving model to dense_resnetfeats_32_8(dropout05_upsampled2x)_leakyrelu07.h5\n",
      "Epoch 44/1000\n",
      "3353/3353 [==============================] - 0s 28us/step - loss: 1.2165 - acc: 0.4319 - val_loss: 1.1898 - val_acc: 0.4499\n",
      "\n",
      "Epoch 00044: val_loss improved from 1.19178 to 1.18984, saving model to dense_resnetfeats_32_8(dropout05_upsampled2x)_leakyrelu07.h5\n",
      "Epoch 45/1000\n",
      "3353/3353 [==============================] - 0s 27us/step - loss: 1.1875 - acc: 0.4399 - val_loss: 1.1889 - val_acc: 0.4415\n",
      "\n",
      "Epoch 00045: val_loss improved from 1.18984 to 1.18890, saving model to dense_resnetfeats_32_8(dropout05_upsampled2x)_leakyrelu07.h5\n",
      "Epoch 46/1000\n",
      "3353/3353 [==============================] - 0s 28us/step - loss: 1.1753 - acc: 0.4423 - val_loss: 1.1887 - val_acc: 0.4415\n",
      "\n",
      "Epoch 00046: val_loss improved from 1.18890 to 1.18870, saving model to dense_resnetfeats_32_8(dropout05_upsampled2x)_leakyrelu07.h5\n",
      "Epoch 47/1000\n",
      "3353/3353 [==============================] - 0s 27us/step - loss: 1.2130 - acc: 0.4477 - val_loss: 1.1877 - val_acc: 0.4463\n",
      "\n",
      "Epoch 00047: val_loss improved from 1.18870 to 1.18772, saving model to dense_resnetfeats_32_8(dropout05_upsampled2x)_leakyrelu07.h5\n",
      "Epoch 48/1000\n",
      "3353/3353 [==============================] - 0s 32us/step - loss: 1.1795 - acc: 0.4438 - val_loss: 1.1865 - val_acc: 0.4499\n",
      "\n",
      "Epoch 00048: val_loss improved from 1.18772 to 1.18648, saving model to dense_resnetfeats_32_8(dropout05_upsampled2x)_leakyrelu07.h5\n",
      "Epoch 49/1000\n",
      "3353/3353 [==============================] - 0s 27us/step - loss: 1.1432 - acc: 0.4509 - val_loss: 1.1845 - val_acc: 0.4487\n",
      "\n",
      "Epoch 00049: val_loss improved from 1.18648 to 1.18451, saving model to dense_resnetfeats_32_8(dropout05_upsampled2x)_leakyrelu07.h5\n",
      "Epoch 50/1000\n",
      "3353/3353 [==============================] - 0s 26us/step - loss: 1.1468 - acc: 0.4557 - val_loss: 1.1823 - val_acc: 0.4487\n",
      "\n",
      "Epoch 00050: val_loss improved from 1.18451 to 1.18234, saving model to dense_resnetfeats_32_8(dropout05_upsampled2x)_leakyrelu07.h5\n",
      "Epoch 51/1000\n",
      "3353/3353 [==============================] - 0s 26us/step - loss: 1.1342 - acc: 0.4605 - val_loss: 1.1813 - val_acc: 0.4535\n",
      "\n",
      "Epoch 00051: val_loss improved from 1.18234 to 1.18132, saving model to dense_resnetfeats_32_8(dropout05_upsampled2x)_leakyrelu07.h5\n",
      "Epoch 52/1000\n",
      "3353/3353 [==============================] - 0s 27us/step - loss: 1.1686 - acc: 0.4605 - val_loss: 1.1806 - val_acc: 0.4535\n",
      "\n",
      "Epoch 00052: val_loss improved from 1.18132 to 1.18057, saving model to dense_resnetfeats_32_8(dropout05_upsampled2x)_leakyrelu07.h5\n",
      "Epoch 53/1000\n",
      "3353/3353 [==============================] - 0s 27us/step - loss: 1.1842 - acc: 0.4360 - val_loss: 1.1791 - val_acc: 0.4487\n",
      "\n",
      "Epoch 00053: val_loss improved from 1.18057 to 1.17908, saving model to dense_resnetfeats_32_8(dropout05_upsampled2x)_leakyrelu07.h5\n",
      "Epoch 54/1000\n",
      "3353/3353 [==============================] - 0s 26us/step - loss: 1.1700 - acc: 0.4688 - val_loss: 1.1769 - val_acc: 0.4487\n",
      "\n",
      "Epoch 00054: val_loss improved from 1.17908 to 1.17692, saving model to dense_resnetfeats_32_8(dropout05_upsampled2x)_leakyrelu07.h5\n",
      "Epoch 55/1000\n",
      "3353/3353 [==============================] - 0s 27us/step - loss: 1.1611 - acc: 0.4551 - val_loss: 1.1747 - val_acc: 0.4463\n",
      "\n",
      "Epoch 00055: val_loss improved from 1.17692 to 1.17468, saving model to dense_resnetfeats_32_8(dropout05_upsampled2x)_leakyrelu07.h5\n",
      "Epoch 56/1000\n",
      "3353/3353 [==============================] - 0s 26us/step - loss: 1.1276 - acc: 0.4599 - val_loss: 1.1718 - val_acc: 0.4487\n",
      "\n",
      "Epoch 00056: val_loss improved from 1.17468 to 1.17179, saving model to dense_resnetfeats_32_8(dropout05_upsampled2x)_leakyrelu07.h5\n",
      "Epoch 57/1000\n",
      "3353/3353 [==============================] - 0s 27us/step - loss: 1.0985 - acc: 0.4617 - val_loss: 1.1691 - val_acc: 0.4499\n",
      "\n",
      "Epoch 00057: val_loss improved from 1.17179 to 1.16907, saving model to dense_resnetfeats_32_8(dropout05_upsampled2x)_leakyrelu07.h5\n",
      "Epoch 58/1000\n",
      "3353/3353 [==============================] - 0s 27us/step - loss: 1.1369 - acc: 0.4575 - val_loss: 1.1670 - val_acc: 0.4499\n",
      "\n",
      "Epoch 00058: val_loss improved from 1.16907 to 1.16695, saving model to dense_resnetfeats_32_8(dropout05_upsampled2x)_leakyrelu07.h5\n",
      "Epoch 59/1000\n",
      "3353/3353 [==============================] - 0s 27us/step - loss: 1.0687 - acc: 0.4682 - val_loss: 1.1648 - val_acc: 0.4547\n",
      "\n",
      "Epoch 00059: val_loss improved from 1.16695 to 1.16475, saving model to dense_resnetfeats_32_8(dropout05_upsampled2x)_leakyrelu07.h5\n",
      "Epoch 60/1000\n",
      "3353/3353 [==============================] - 0s 26us/step - loss: 1.1209 - acc: 0.4626 - val_loss: 1.1624 - val_acc: 0.4582\n",
      "\n",
      "Epoch 00060: val_loss improved from 1.16475 to 1.16236, saving model to dense_resnetfeats_32_8(dropout05_upsampled2x)_leakyrelu07.h5\n",
      "Epoch 61/1000\n",
      "3353/3353 [==============================] - 0s 26us/step - loss: 1.1254 - acc: 0.4483 - val_loss: 1.1608 - val_acc: 0.4558\n",
      "\n",
      "Epoch 00061: val_loss improved from 1.16236 to 1.16079, saving model to dense_resnetfeats_32_8(dropout05_upsampled2x)_leakyrelu07.h5\n",
      "Epoch 62/1000\n",
      "3353/3353 [==============================] - 0s 26us/step - loss: 1.1192 - acc: 0.4608 - val_loss: 1.1590 - val_acc: 0.4594\n",
      "\n",
      "Epoch 00062: val_loss improved from 1.16079 to 1.15896, saving model to dense_resnetfeats_32_8(dropout05_upsampled2x)_leakyrelu07.h5\n",
      "Epoch 63/1000\n",
      "3353/3353 [==============================] - 0s 28us/step - loss: 1.0984 - acc: 0.4739 - val_loss: 1.1582 - val_acc: 0.4618\n",
      "\n",
      "Epoch 00063: val_loss improved from 1.15896 to 1.15816, saving model to dense_resnetfeats_32_8(dropout05_upsampled2x)_leakyrelu07.h5\n",
      "Epoch 64/1000\n",
      "3353/3353 [==============================] - 0s 28us/step - loss: 1.0913 - acc: 0.4700 - val_loss: 1.1562 - val_acc: 0.4618\n",
      "\n",
      "Epoch 00064: val_loss improved from 1.15816 to 1.15623, saving model to dense_resnetfeats_32_8(dropout05_upsampled2x)_leakyrelu07.h5\n",
      "Epoch 65/1000\n",
      "3353/3353 [==============================] - 0s 28us/step - loss: 1.1281 - acc: 0.4656 - val_loss: 1.1558 - val_acc: 0.4642\n",
      "\n",
      "Epoch 00065: val_loss improved from 1.15623 to 1.15576, saving model to dense_resnetfeats_32_8(dropout05_upsampled2x)_leakyrelu07.h5\n",
      "Epoch 66/1000\n",
      "3353/3353 [==============================] - 0s 28us/step - loss: 1.0709 - acc: 0.4903 - val_loss: 1.1539 - val_acc: 0.4630\n",
      "\n",
      "Epoch 00066: val_loss improved from 1.15576 to 1.15392, saving model to dense_resnetfeats_32_8(dropout05_upsampled2x)_leakyrelu07.h5\n",
      "Epoch 67/1000\n",
      "3353/3353 [==============================] - 0s 28us/step - loss: 1.0396 - acc: 0.4760 - val_loss: 1.1516 - val_acc: 0.4606\n",
      "\n",
      "Epoch 00067: val_loss improved from 1.15392 to 1.15156, saving model to dense_resnetfeats_32_8(dropout05_upsampled2x)_leakyrelu07.h5\n",
      "Epoch 68/1000\n",
      "3353/3353 [==============================] - 0s 28us/step - loss: 1.0729 - acc: 0.4706 - val_loss: 1.1490 - val_acc: 0.4606\n",
      "\n",
      "Epoch 00068: val_loss improved from 1.15156 to 1.14905, saving model to dense_resnetfeats_32_8(dropout05_upsampled2x)_leakyrelu07.h5\n",
      "Epoch 69/1000\n",
      "3353/3353 [==============================] - 0s 27us/step - loss: 1.0459 - acc: 0.4837 - val_loss: 1.1478 - val_acc: 0.4630\n",
      "\n",
      "Epoch 00069: val_loss improved from 1.14905 to 1.14776, saving model to dense_resnetfeats_32_8(dropout05_upsampled2x)_leakyrelu07.h5\n",
      "Epoch 70/1000\n",
      "3353/3353 [==============================] - 0s 27us/step - loss: 1.0502 - acc: 0.4766 - val_loss: 1.1472 - val_acc: 0.4630\n",
      "\n",
      "Epoch 00070: val_loss improved from 1.14776 to 1.14723, saving model to dense_resnetfeats_32_8(dropout05_upsampled2x)_leakyrelu07.h5\n",
      "Epoch 71/1000\n",
      "3353/3353 [==============================] - 0s 28us/step - loss: 1.0252 - acc: 0.4840 - val_loss: 1.1467 - val_acc: 0.4666\n",
      "\n",
      "Epoch 00071: val_loss improved from 1.14723 to 1.14668, saving model to dense_resnetfeats_32_8(dropout05_upsampled2x)_leakyrelu07.h5\n",
      "Epoch 72/1000\n",
      "3353/3353 [==============================] - 0s 27us/step - loss: 1.0671 - acc: 0.4748 - val_loss: 1.1473 - val_acc: 0.4678\n",
      "\n",
      "Epoch 00072: val_loss did not improve from 1.14668\n",
      "Epoch 73/1000\n",
      "3353/3353 [==============================] - 0s 27us/step - loss: 1.0655 - acc: 0.4778 - val_loss: 1.1475 - val_acc: 0.4654\n",
      "\n",
      "Epoch 00073: val_loss did not improve from 1.14668\n",
      "Epoch 74/1000\n",
      "3353/3353 [==============================] - 0s 26us/step - loss: 1.0433 - acc: 0.4900 - val_loss: 1.1461 - val_acc: 0.4654\n",
      "\n",
      "Epoch 00074: val_loss improved from 1.14668 to 1.14608, saving model to dense_resnetfeats_32_8(dropout05_upsampled2x)_leakyrelu07.h5\n",
      "Epoch 75/1000\n",
      "3353/3353 [==============================] - 0s 27us/step - loss: 1.0493 - acc: 0.4805 - val_loss: 1.1435 - val_acc: 0.4630\n",
      "\n",
      "Epoch 00075: val_loss improved from 1.14608 to 1.14350, saving model to dense_resnetfeats_32_8(dropout05_upsampled2x)_leakyrelu07.h5\n",
      "Epoch 76/1000\n",
      "3353/3353 [==============================] - 0s 27us/step - loss: 1.0207 - acc: 0.4846 - val_loss: 1.1406 - val_acc: 0.4678\n",
      "\n",
      "Epoch 00076: val_loss improved from 1.14350 to 1.14057, saving model to dense_resnetfeats_32_8(dropout05_upsampled2x)_leakyrelu07.h5\n",
      "Epoch 77/1000\n",
      "3353/3353 [==============================] - 0s 27us/step - loss: 1.0205 - acc: 0.4769 - val_loss: 1.1385 - val_acc: 0.4702\n",
      "\n",
      "Epoch 00077: val_loss improved from 1.14057 to 1.13851, saving model to dense_resnetfeats_32_8(dropout05_upsampled2x)_leakyrelu07.h5\n",
      "Epoch 78/1000\n",
      "3353/3353 [==============================] - 0s 27us/step - loss: 1.0109 - acc: 0.4981 - val_loss: 1.1374 - val_acc: 0.4749\n",
      "\n",
      "Epoch 00078: val_loss improved from 1.13851 to 1.13738, saving model to dense_resnetfeats_32_8(dropout05_upsampled2x)_leakyrelu07.h5\n",
      "Epoch 79/1000\n",
      "3353/3353 [==============================] - 0s 28us/step - loss: 1.0133 - acc: 0.4960 - val_loss: 1.1370 - val_acc: 0.4726\n",
      "\n",
      "Epoch 00079: val_loss improved from 1.13738 to 1.13705, saving model to dense_resnetfeats_32_8(dropout05_upsampled2x)_leakyrelu07.h5\n",
      "Epoch 80/1000\n",
      "3353/3353 [==============================] - 0s 26us/step - loss: 0.9919 - acc: 0.5189 - val_loss: 1.1371 - val_acc: 0.4714\n",
      "\n",
      "Epoch 00080: val_loss did not improve from 1.13705\n",
      "Epoch 81/1000\n",
      "3353/3353 [==============================] - 0s 27us/step - loss: 0.9967 - acc: 0.5022 - val_loss: 1.1359 - val_acc: 0.4726\n",
      "\n",
      "Epoch 00081: val_loss improved from 1.13705 to 1.13586, saving model to dense_resnetfeats_32_8(dropout05_upsampled2x)_leakyrelu07.h5\n",
      "Epoch 82/1000\n",
      "3353/3353 [==============================] - 0s 34us/step - loss: 1.0197 - acc: 0.5016 - val_loss: 1.1348 - val_acc: 0.4618\n",
      "\n",
      "Epoch 00082: val_loss improved from 1.13586 to 1.13481, saving model to dense_resnetfeats_32_8(dropout05_upsampled2x)_leakyrelu07.h5\n",
      "Epoch 83/1000\n",
      "3353/3353 [==============================] - 0s 27us/step - loss: 1.0350 - acc: 0.4823 - val_loss: 1.1341 - val_acc: 0.4582\n",
      "\n",
      "Epoch 00083: val_loss improved from 1.13481 to 1.13406, saving model to dense_resnetfeats_32_8(dropout05_upsampled2x)_leakyrelu07.h5\n",
      "Epoch 84/1000\n",
      "3353/3353 [==============================] - 0s 30us/step - loss: 0.9985 - acc: 0.5004 - val_loss: 1.1327 - val_acc: 0.4618\n",
      "\n",
      "Epoch 00084: val_loss improved from 1.13406 to 1.13274, saving model to dense_resnetfeats_32_8(dropout05_upsampled2x)_leakyrelu07.h5\n",
      "Epoch 85/1000\n",
      "3353/3353 [==============================] - 0s 34us/step - loss: 1.0333 - acc: 0.4876 - val_loss: 1.1301 - val_acc: 0.4594\n",
      "\n",
      "Epoch 00085: val_loss improved from 1.13274 to 1.13014, saving model to dense_resnetfeats_32_8(dropout05_upsampled2x)_leakyrelu07.h5\n",
      "Epoch 86/1000\n",
      "3353/3353 [==============================] - 0s 27us/step - loss: 0.9790 - acc: 0.5052 - val_loss: 1.1284 - val_acc: 0.4618\n",
      "\n",
      "Epoch 00086: val_loss improved from 1.13014 to 1.12839, saving model to dense_resnetfeats_32_8(dropout05_upsampled2x)_leakyrelu07.h5\n",
      "Epoch 87/1000\n",
      "3353/3353 [==============================] - 0s 28us/step - loss: 0.9814 - acc: 0.5094 - val_loss: 1.1271 - val_acc: 0.4618\n",
      "\n",
      "Epoch 00087: val_loss improved from 1.12839 to 1.12705, saving model to dense_resnetfeats_32_8(dropout05_upsampled2x)_leakyrelu07.h5\n",
      "Epoch 88/1000\n",
      "3353/3353 [==============================] - 0s 27us/step - loss: 1.0091 - acc: 0.5019 - val_loss: 1.1261 - val_acc: 0.4606\n",
      "\n",
      "Epoch 00088: val_loss improved from 1.12705 to 1.12614, saving model to dense_resnetfeats_32_8(dropout05_upsampled2x)_leakyrelu07.h5\n",
      "Epoch 89/1000\n",
      "3353/3353 [==============================] - 0s 31us/step - loss: 1.0105 - acc: 0.4930 - val_loss: 1.1258 - val_acc: 0.4642\n",
      "\n",
      "Epoch 00089: val_loss improved from 1.12614 to 1.12580, saving model to dense_resnetfeats_32_8(dropout05_upsampled2x)_leakyrelu07.h5\n",
      "Epoch 90/1000\n",
      "3353/3353 [==============================] - 0s 27us/step - loss: 0.9885 - acc: 0.5091 - val_loss: 1.1247 - val_acc: 0.4666\n",
      "\n",
      "Epoch 00090: val_loss improved from 1.12580 to 1.12472, saving model to dense_resnetfeats_32_8(dropout05_upsampled2x)_leakyrelu07.h5\n",
      "Epoch 91/1000\n",
      "3353/3353 [==============================] - 0s 26us/step - loss: 1.0005 - acc: 0.5064 - val_loss: 1.1249 - val_acc: 0.4666\n",
      "\n",
      "Epoch 00091: val_loss did not improve from 1.12472\n",
      "Epoch 92/1000\n",
      "3353/3353 [==============================] - 0s 27us/step - loss: 0.9836 - acc: 0.4945 - val_loss: 1.1253 - val_acc: 0.4690\n"
     ]
    },
    {
     "name": "stdout",
     "output_type": "stream",
     "text": [
      "\n",
      "Epoch 00092: val_loss did not improve from 1.12472\n",
      "Epoch 93/1000\n",
      "3353/3353 [==============================] - 0s 27us/step - loss: 0.9598 - acc: 0.5204 - val_loss: 1.1253 - val_acc: 0.4630\n",
      "\n",
      "Epoch 00093: val_loss did not improve from 1.12472\n",
      "Epoch 94/1000\n",
      "3353/3353 [==============================] - 0s 27us/step - loss: 0.9480 - acc: 0.5216 - val_loss: 1.1235 - val_acc: 0.4630\n",
      "\n",
      "Epoch 00094: val_loss improved from 1.12472 to 1.12348, saving model to dense_resnetfeats_32_8(dropout05_upsampled2x)_leakyrelu07.h5\n",
      "Epoch 95/1000\n",
      "3353/3353 [==============================] - 0s 28us/step - loss: 0.9636 - acc: 0.5085 - val_loss: 1.1226 - val_acc: 0.4678\n",
      "\n",
      "Epoch 00095: val_loss improved from 1.12348 to 1.12260, saving model to dense_resnetfeats_32_8(dropout05_upsampled2x)_leakyrelu07.h5\n",
      "Epoch 96/1000\n",
      "3353/3353 [==============================] - 0s 36us/step - loss: 0.9597 - acc: 0.5249 - val_loss: 1.1212 - val_acc: 0.4678\n",
      "\n",
      "Epoch 00096: val_loss improved from 1.12260 to 1.12116, saving model to dense_resnetfeats_32_8(dropout05_upsampled2x)_leakyrelu07.h5\n",
      "Epoch 97/1000\n",
      "3353/3353 [==============================] - 0s 28us/step - loss: 0.9721 - acc: 0.5034 - val_loss: 1.1186 - val_acc: 0.4642\n",
      "\n",
      "Epoch 00097: val_loss improved from 1.12116 to 1.11864, saving model to dense_resnetfeats_32_8(dropout05_upsampled2x)_leakyrelu07.h5\n",
      "Epoch 98/1000\n",
      "3353/3353 [==============================] - 0s 29us/step - loss: 0.9673 - acc: 0.5180 - val_loss: 1.1168 - val_acc: 0.4702\n",
      "\n",
      "Epoch 00098: val_loss improved from 1.11864 to 1.11679, saving model to dense_resnetfeats_32_8(dropout05_upsampled2x)_leakyrelu07.h5\n",
      "Epoch 99/1000\n",
      "3353/3353 [==============================] - 0s 29us/step - loss: 0.9469 - acc: 0.5139 - val_loss: 1.1158 - val_acc: 0.4821\n",
      "\n",
      "Epoch 00099: val_loss improved from 1.11679 to 1.11581, saving model to dense_resnetfeats_32_8(dropout05_upsampled2x)_leakyrelu07.h5\n",
      "Epoch 100/1000\n",
      "3353/3353 [==============================] - 0s 29us/step - loss: 0.9346 - acc: 0.5219 - val_loss: 1.1153 - val_acc: 0.4785\n",
      "\n",
      "Epoch 00100: val_loss improved from 1.11581 to 1.11526, saving model to dense_resnetfeats_32_8(dropout05_upsampled2x)_leakyrelu07.h5\n",
      "Epoch 101/1000\n",
      "3353/3353 [==============================] - 0s 28us/step - loss: 0.9327 - acc: 0.5225 - val_loss: 1.1151 - val_acc: 0.4761\n",
      "\n",
      "Epoch 00101: val_loss improved from 1.11526 to 1.11512, saving model to dense_resnetfeats_32_8(dropout05_upsampled2x)_leakyrelu07.h5\n",
      "Epoch 102/1000\n",
      "3353/3353 [==============================] - 0s 27us/step - loss: 0.9605 - acc: 0.5207 - val_loss: 1.1149 - val_acc: 0.4785\n",
      "\n",
      "Epoch 00102: val_loss improved from 1.11512 to 1.11489, saving model to dense_resnetfeats_32_8(dropout05_upsampled2x)_leakyrelu07.h5\n",
      "Epoch 103/1000\n",
      "3353/3353 [==============================] - 0s 28us/step - loss: 0.9513 - acc: 0.5177 - val_loss: 1.1142 - val_acc: 0.4785\n",
      "\n",
      "Epoch 00103: val_loss improved from 1.11489 to 1.11424, saving model to dense_resnetfeats_32_8(dropout05_upsampled2x)_leakyrelu07.h5\n",
      "Epoch 104/1000\n",
      "3353/3353 [==============================] - 0s 27us/step - loss: 0.9526 - acc: 0.5252 - val_loss: 1.1129 - val_acc: 0.4797\n",
      "\n",
      "Epoch 00104: val_loss improved from 1.11424 to 1.11290, saving model to dense_resnetfeats_32_8(dropout05_upsampled2x)_leakyrelu07.h5\n",
      "Epoch 105/1000\n",
      "3353/3353 [==============================] - 0s 33us/step - loss: 0.9250 - acc: 0.5383 - val_loss: 1.1110 - val_acc: 0.4833\n",
      "\n",
      "Epoch 00105: val_loss improved from 1.11290 to 1.11100, saving model to dense_resnetfeats_32_8(dropout05_upsampled2x)_leakyrelu07.h5\n",
      "Epoch 106/1000\n",
      "3353/3353 [==============================] - 0s 31us/step - loss: 0.9200 - acc: 0.5341 - val_loss: 1.1096 - val_acc: 0.4833\n",
      "\n",
      "Epoch 00106: val_loss improved from 1.11100 to 1.10956, saving model to dense_resnetfeats_32_8(dropout05_upsampled2x)_leakyrelu07.h5\n",
      "Epoch 107/1000\n",
      "3353/3353 [==============================] - 0s 27us/step - loss: 0.9357 - acc: 0.5404 - val_loss: 1.1081 - val_acc: 0.4809\n",
      "\n",
      "Epoch 00107: val_loss improved from 1.10956 to 1.10808, saving model to dense_resnetfeats_32_8(dropout05_upsampled2x)_leakyrelu07.h5\n",
      "Epoch 108/1000\n",
      "3353/3353 [==============================] - 0s 28us/step - loss: 0.9194 - acc: 0.5330 - val_loss: 1.1076 - val_acc: 0.4845\n",
      "\n",
      "Epoch 00108: val_loss improved from 1.10808 to 1.10755, saving model to dense_resnetfeats_32_8(dropout05_upsampled2x)_leakyrelu07.h5\n",
      "Epoch 109/1000\n",
      "3353/3353 [==============================] - 0s 31us/step - loss: 0.9284 - acc: 0.5324 - val_loss: 1.1064 - val_acc: 0.4893\n",
      "\n",
      "Epoch 00109: val_loss improved from 1.10755 to 1.10638, saving model to dense_resnetfeats_32_8(dropout05_upsampled2x)_leakyrelu07.h5\n",
      "Epoch 110/1000\n",
      "3353/3353 [==============================] - 0s 27us/step - loss: 0.9252 - acc: 0.5258 - val_loss: 1.1056 - val_acc: 0.4905\n",
      "\n",
      "Epoch 00110: val_loss improved from 1.10638 to 1.10563, saving model to dense_resnetfeats_32_8(dropout05_upsampled2x)_leakyrelu07.h5\n",
      "Epoch 111/1000\n",
      "3353/3353 [==============================] - 0s 27us/step - loss: 0.9036 - acc: 0.5401 - val_loss: 1.1055 - val_acc: 0.4916\n",
      "\n",
      "Epoch 00111: val_loss improved from 1.10563 to 1.10550, saving model to dense_resnetfeats_32_8(dropout05_upsampled2x)_leakyrelu07.h5\n",
      "Epoch 112/1000\n",
      "3353/3353 [==============================] - 0s 26us/step - loss: 0.9013 - acc: 0.5380 - val_loss: 1.1049 - val_acc: 0.4881\n",
      "\n",
      "Epoch 00112: val_loss improved from 1.10550 to 1.10486, saving model to dense_resnetfeats_32_8(dropout05_upsampled2x)_leakyrelu07.h5\n",
      "Epoch 113/1000\n",
      "3353/3353 [==============================] - 0s 27us/step - loss: 0.9122 - acc: 0.5589 - val_loss: 1.1054 - val_acc: 0.4857\n",
      "\n",
      "Epoch 00113: val_loss did not improve from 1.10486\n",
      "Epoch 114/1000\n",
      "3353/3353 [==============================] - 0s 34us/step - loss: 0.8972 - acc: 0.5464 - val_loss: 1.1049 - val_acc: 0.4869\n",
      "\n",
      "Epoch 00114: val_loss did not improve from 1.10486\n",
      "Epoch 115/1000\n",
      "3353/3353 [==============================] - 0s 27us/step - loss: 0.9054 - acc: 0.5526 - val_loss: 1.1041 - val_acc: 0.4893\n",
      "\n",
      "Epoch 00115: val_loss improved from 1.10486 to 1.10405, saving model to dense_resnetfeats_32_8(dropout05_upsampled2x)_leakyrelu07.h5\n",
      "Epoch 116/1000\n",
      "3353/3353 [==============================] - 0s 28us/step - loss: 0.9146 - acc: 0.5458 - val_loss: 1.1031 - val_acc: 0.4881\n",
      "\n",
      "Epoch 00116: val_loss improved from 1.10405 to 1.10307, saving model to dense_resnetfeats_32_8(dropout05_upsampled2x)_leakyrelu07.h5\n",
      "Epoch 117/1000\n",
      "3353/3353 [==============================] - 0s 36us/step - loss: 0.9086 - acc: 0.5398 - val_loss: 1.1020 - val_acc: 0.4869\n",
      "\n",
      "Epoch 00117: val_loss improved from 1.10307 to 1.10201, saving model to dense_resnetfeats_32_8(dropout05_upsampled2x)_leakyrelu07.h5\n",
      "Epoch 118/1000\n",
      "3353/3353 [==============================] - 0s 27us/step - loss: 0.8852 - acc: 0.5598 - val_loss: 1.1017 - val_acc: 0.4833\n",
      "\n",
      "Epoch 00118: val_loss improved from 1.10201 to 1.10168, saving model to dense_resnetfeats_32_8(dropout05_upsampled2x)_leakyrelu07.h5\n",
      "Epoch 119/1000\n",
      "3353/3353 [==============================] - 0s 27us/step - loss: 0.8763 - acc: 0.5431 - val_loss: 1.1021 - val_acc: 0.4857\n",
      "\n",
      "Epoch 00119: val_loss did not improve from 1.10168\n",
      "Epoch 120/1000\n",
      "3353/3353 [==============================] - 0s 27us/step - loss: 0.8965 - acc: 0.5362 - val_loss: 1.1011 - val_acc: 0.4869\n",
      "\n",
      "Epoch 00120: val_loss improved from 1.10168 to 1.10110, saving model to dense_resnetfeats_32_8(dropout05_upsampled2x)_leakyrelu07.h5\n",
      "Epoch 121/1000\n",
      "3353/3353 [==============================] - 0s 32us/step - loss: 0.8781 - acc: 0.5511 - val_loss: 1.1004 - val_acc: 0.4869\n",
      "\n",
      "Epoch 00121: val_loss improved from 1.10110 to 1.10041, saving model to dense_resnetfeats_32_8(dropout05_upsampled2x)_leakyrelu07.h5\n",
      "Epoch 122/1000\n",
      "3353/3353 [==============================] - 0s 28us/step - loss: 0.8590 - acc: 0.5464 - val_loss: 1.0992 - val_acc: 0.4928\n",
      "\n",
      "Epoch 00122: val_loss improved from 1.10041 to 1.09921, saving model to dense_resnetfeats_32_8(dropout05_upsampled2x)_leakyrelu07.h5\n",
      "Epoch 123/1000\n",
      "3353/3353 [==============================] - 0s 27us/step - loss: 0.8623 - acc: 0.5520 - val_loss: 1.0972 - val_acc: 0.4952\n",
      "\n",
      "Epoch 00123: val_loss improved from 1.09921 to 1.09720, saving model to dense_resnetfeats_32_8(dropout05_upsampled2x)_leakyrelu07.h5\n",
      "Epoch 124/1000\n"
     ]
    },
    {
     "name": "stdout",
     "output_type": "stream",
     "text": [
      "3353/3353 [==============================] - 0s 27us/step - loss: 0.8693 - acc: 0.5595 - val_loss: 1.0957 - val_acc: 0.4988\n",
      "\n",
      "Epoch 00124: val_loss improved from 1.09720 to 1.09566, saving model to dense_resnetfeats_32_8(dropout05_upsampled2x)_leakyrelu07.h5\n",
      "Epoch 125/1000\n",
      "3353/3353 [==============================] - 0s 28us/step - loss: 0.8894 - acc: 0.5631 - val_loss: 1.0956 - val_acc: 0.4940\n",
      "\n",
      "Epoch 00125: val_loss improved from 1.09566 to 1.09561, saving model to dense_resnetfeats_32_8(dropout05_upsampled2x)_leakyrelu07.h5\n",
      "Epoch 126/1000\n",
      "3353/3353 [==============================] - 0s 28us/step - loss: 0.8645 - acc: 0.5658 - val_loss: 1.0965 - val_acc: 0.4905\n",
      "\n",
      "Epoch 00126: val_loss did not improve from 1.09561\n",
      "Epoch 127/1000\n",
      "3353/3353 [==============================] - 0s 28us/step - loss: 0.8773 - acc: 0.5583 - val_loss: 1.0981 - val_acc: 0.4869\n",
      "\n",
      "Epoch 00127: val_loss did not improve from 1.09561\n",
      "Epoch 128/1000\n",
      "3353/3353 [==============================] - 0s 28us/step - loss: 0.8614 - acc: 0.5601 - val_loss: 1.0968 - val_acc: 0.4928\n",
      "\n",
      "Epoch 00128: val_loss did not improve from 1.09561\n",
      "Epoch 129/1000\n",
      "3353/3353 [==============================] - 0s 28us/step - loss: 0.8602 - acc: 0.5565 - val_loss: 1.0946 - val_acc: 0.4940\n",
      "\n",
      "Epoch 00129: val_loss improved from 1.09561 to 1.09460, saving model to dense_resnetfeats_32_8(dropout05_upsampled2x)_leakyrelu07.h5\n",
      "Epoch 130/1000\n",
      "3353/3353 [==============================] - 0s 28us/step - loss: 0.8556 - acc: 0.5678 - val_loss: 1.0935 - val_acc: 0.4952\n",
      "\n",
      "Epoch 00130: val_loss improved from 1.09460 to 1.09347, saving model to dense_resnetfeats_32_8(dropout05_upsampled2x)_leakyrelu07.h5\n",
      "Epoch 131/1000\n",
      "3353/3353 [==============================] - 0s 28us/step - loss: 0.8724 - acc: 0.5568 - val_loss: 1.0932 - val_acc: 0.4940\n",
      "\n",
      "Epoch 00131: val_loss improved from 1.09347 to 1.09317, saving model to dense_resnetfeats_32_8(dropout05_upsampled2x)_leakyrelu07.h5\n",
      "Epoch 132/1000\n",
      "3353/3353 [==============================] - 0s 28us/step - loss: 0.8612 - acc: 0.5652 - val_loss: 1.0926 - val_acc: 0.4976\n",
      "\n",
      "Epoch 00132: val_loss improved from 1.09317 to 1.09259, saving model to dense_resnetfeats_32_8(dropout05_upsampled2x)_leakyrelu07.h5\n",
      "Epoch 133/1000\n",
      "3353/3353 [==============================] - 0s 35us/step - loss: 0.8495 - acc: 0.5711 - val_loss: 1.0925 - val_acc: 0.4940\n",
      "\n",
      "Epoch 00133: val_loss improved from 1.09259 to 1.09251, saving model to dense_resnetfeats_32_8(dropout05_upsampled2x)_leakyrelu07.h5\n",
      "Epoch 134/1000\n",
      "3353/3353 [==============================] - 0s 29us/step - loss: 0.8508 - acc: 0.5652 - val_loss: 1.0920 - val_acc: 0.4916\n",
      "\n",
      "Epoch 00134: val_loss improved from 1.09251 to 1.09196, saving model to dense_resnetfeats_32_8(dropout05_upsampled2x)_leakyrelu07.h5\n",
      "Epoch 135/1000\n",
      "3353/3353 [==============================] - 0s 27us/step - loss: 0.8552 - acc: 0.5500 - val_loss: 1.0914 - val_acc: 0.4905\n",
      "\n",
      "Epoch 00135: val_loss improved from 1.09196 to 1.09144, saving model to dense_resnetfeats_32_8(dropout05_upsampled2x)_leakyrelu07.h5\n",
      "Epoch 136/1000\n",
      "3353/3353 [==============================] - 0s 36us/step - loss: 0.8517 - acc: 0.5702 - val_loss: 1.0900 - val_acc: 0.4893\n",
      "\n",
      "Epoch 00136: val_loss improved from 1.09144 to 1.09000, saving model to dense_resnetfeats_32_8(dropout05_upsampled2x)_leakyrelu07.h5\n",
      "Epoch 137/1000\n",
      "3353/3353 [==============================] - 0s 27us/step - loss: 0.8459 - acc: 0.5693 - val_loss: 1.0892 - val_acc: 0.4845\n",
      "\n",
      "Epoch 00137: val_loss improved from 1.09000 to 1.08924, saving model to dense_resnetfeats_32_8(dropout05_upsampled2x)_leakyrelu07.h5\n",
      "Epoch 138/1000\n",
      "3353/3353 [==============================] - 0s 27us/step - loss: 0.8728 - acc: 0.5640 - val_loss: 1.0887 - val_acc: 0.4869\n",
      "\n",
      "Epoch 00138: val_loss improved from 1.08924 to 1.08872, saving model to dense_resnetfeats_32_8(dropout05_upsampled2x)_leakyrelu07.h5\n",
      "Epoch 139/1000\n",
      "3353/3353 [==============================] - 0s 27us/step - loss: 0.8505 - acc: 0.5667 - val_loss: 1.0889 - val_acc: 0.4940\n",
      "\n",
      "Epoch 00139: val_loss did not improve from 1.08872\n",
      "Epoch 140/1000\n",
      "3353/3353 [==============================] - 0s 29us/step - loss: 0.8347 - acc: 0.5714 - val_loss: 1.0897 - val_acc: 0.4964\n",
      "\n",
      "Epoch 00140: val_loss did not improve from 1.08872\n",
      "Epoch 141/1000\n",
      "3353/3353 [==============================] - 0s 27us/step - loss: 0.8340 - acc: 0.5726 - val_loss: 1.0900 - val_acc: 0.4928\n",
      "\n",
      "Epoch 00141: val_loss did not improve from 1.08872\n",
      "Epoch 142/1000\n",
      "3353/3353 [==============================] - 0s 28us/step - loss: 0.8249 - acc: 0.5840 - val_loss: 1.0906 - val_acc: 0.4893\n",
      "\n",
      "Epoch 00142: val_loss did not improve from 1.08872\n",
      "Epoch 143/1000\n",
      "3353/3353 [==============================] - 0s 27us/step - loss: 0.8208 - acc: 0.5786 - val_loss: 1.0893 - val_acc: 0.4916\n",
      "\n",
      "Epoch 00143: val_loss did not improve from 1.08872\n"
     ]
    },
    {
     "data": {
      "text/plain": [
       "<keras.callbacks.History at 0x7ff6261e5080>"
      ]
     },
     "execution_count": 18,
     "metadata": {},
     "output_type": "execute_result"
    }
   ],
   "source": [
    "dense_model.fit(X_train,\n",
    "                y_train,\n",
    "                epochs=1000,\n",
    "                batch_size=512,\n",
    "                callbacks=[checkpoint, early_stop],\n",
    "                shuffle=True,\n",
    "                validation_data=(X_test, y_test),\n",
    "                class_weight=meron._get_class_weights(merged_df.maln_class, neural_net=True),\n",
    "                verbose=1)"
   ]
  },
  {
   "cell_type": "code",
   "execution_count": 22,
   "metadata": {},
   "outputs": [
    {
     "name": "stdout",
     "output_type": "stream",
     "text": [
      "838/838 [==============================] - 0s 116us/step\n"
     ]
    }
   ],
   "source": [
    "dense_model=load_model('dense_resnetfeats_32_8(dropout05_upsampled2x)_leakyrelu08.h5')\n",
    "prediction=dense_model.predict(X_test, verbose=1)\n",
    "## convert to integer vec\n",
    "pred_classes = prediction.argmax(axis=-1)\n",
    "true_classes=y_test.argmax(axis=-1)"
   ]
  },
  {
   "cell_type": "code",
   "execution_count": 57,
   "metadata": {},
   "outputs": [],
   "source": [
    "### optional, save prediction, muac_prediction and wfh target\n",
    "y_test_labeled=pd.DataFrame({'y_test':np.argmax(y_test, axis=1)})\n",
    "y_test_wfh=y_test_labeled['y_test'].map({0:'mam', 1:'normal', 2:'sam'})"
   ]
  },
  {
   "cell_type": "code",
   "execution_count": 62,
   "metadata": {},
   "outputs": [],
   "source": [
    "y_test_pred=pd.DataFrame({'y_prediction':np.argmax(prediction, axis=1)})\n",
    "y_test_singlemodel=y_test_pred['y_prediction'].map({0:'mam', 1:'normal', 2:'sam'})\n"
   ]
  },
  {
   "cell_type": "code",
   "execution_count": 63,
   "metadata": {},
   "outputs": [],
   "source": [
    "y_test_comparison=pd.DataFrame({'wfh_classification':y_test_wfh,\n",
    "                                'muac_classification':y_test_muac,\n",
    "                                'single_model(leakyReLU)': y_test_singlemodel})"
   ]
  },
  {
   "cell_type": "code",
   "execution_count": 64,
   "metadata": {},
   "outputs": [
    {
     "data": {
      "text/html": [
       "<div>\n",
       "<style scoped>\n",
       "    .dataframe tbody tr th:only-of-type {\n",
       "        vertical-align: middle;\n",
       "    }\n",
       "\n",
       "    .dataframe tbody tr th {\n",
       "        vertical-align: top;\n",
       "    }\n",
       "\n",
       "    .dataframe thead th {\n",
       "        text-align: right;\n",
       "    }\n",
       "</style>\n",
       "<table border=\"1\" class=\"dataframe\">\n",
       "  <thead>\n",
       "    <tr style=\"text-align: right;\">\n",
       "      <th></th>\n",
       "      <th>muac_classification</th>\n",
       "      <th>single_model(leakyReLU)</th>\n",
       "      <th>wfh_classification</th>\n",
       "    </tr>\n",
       "  </thead>\n",
       "  <tbody>\n",
       "    <tr>\n",
       "      <th>0</th>\n",
       "      <td>normal</td>\n",
       "      <td>normal</td>\n",
       "      <td>normal</td>\n",
       "    </tr>\n",
       "    <tr>\n",
       "      <th>1</th>\n",
       "      <td>mam</td>\n",
       "      <td>mam</td>\n",
       "      <td>normal</td>\n",
       "    </tr>\n",
       "    <tr>\n",
       "      <th>2</th>\n",
       "      <td>normal</td>\n",
       "      <td>normal</td>\n",
       "      <td>normal</td>\n",
       "    </tr>\n",
       "    <tr>\n",
       "      <th>3</th>\n",
       "      <td>normal</td>\n",
       "      <td>mam</td>\n",
       "      <td>normal</td>\n",
       "    </tr>\n",
       "    <tr>\n",
       "      <th>4</th>\n",
       "      <td>normal</td>\n",
       "      <td>normal</td>\n",
       "      <td>normal</td>\n",
       "    </tr>\n",
       "  </tbody>\n",
       "</table>\n",
       "</div>"
      ],
      "text/plain": [
       "  muac_classification single_model(leakyReLU) wfh_classification\n",
       "0              normal                  normal             normal\n",
       "1                 mam                     mam             normal\n",
       "2              normal                  normal             normal\n",
       "3              normal                     mam             normal\n",
       "4              normal                  normal             normal"
      ]
     },
     "execution_count": 64,
     "metadata": {},
     "output_type": "execute_result"
    }
   ],
   "source": [
    "y_test_comparison.head()"
   ]
  },
  {
   "cell_type": "code",
   "execution_count": 65,
   "metadata": {},
   "outputs": [],
   "source": [
    "y_test_comparison.to_csv('y_test_comparison(leakyReLU).csv', index=False)"
   ]
  },
  {
   "cell_type": "markdown",
   "metadata": {},
   "source": [
    "# Confusion matrix\n"
   ]
  },
  {
   "cell_type": "code",
   "execution_count": 23,
   "metadata": {},
   "outputs": [],
   "source": [
    "import itertools\n",
    "def plot_confusion_matrix(cm, classes,\n",
    "                          normalize=False,\n",
    "                          title='Confusion matrix',\n",
    "                          cmap=plt.cm.Blues):\n",
    "    \"\"\"\n",
    "    This function prints and plots the confusion matrix.\n",
    "    Normalization can be applied by setting `normalize=True`.\n",
    "    \"\"\"\n",
    "    if normalize:\n",
    "        #cm = cm.astype('float') / cm.sum(axis=1)[:, np.newaxis]\n",
    "        cm = np.round(cm.astype('float') / cm.sum(axis=1)[:, np.newaxis], 2)\n",
    "        print(\"Normalized confusion matrix\")\n",
    "    else:\n",
    "        print('Confusion matrix, without normalization')\n",
    "\n",
    "    print(cm)\n",
    "    \n",
    "    plt.imshow(cm, interpolation='nearest', cmap=cmap)\n",
    "    plt.title(title)\n",
    "    plt.colorbar()\n",
    "    tick_marks = np.arange(len(classes))\n",
    "    plt.xticks(tick_marks, classes, rotation=45)\n",
    "    plt.yticks(tick_marks, classes)\n",
    "\n",
    "    fmt = '.2f' if normalize else 'd'\n",
    "    thresh = cm.max() / 2.\n",
    "    for i, j in itertools.product(range(cm.shape[0]), range(cm.shape[1])):\n",
    "        plt.text(j, i, format(cm[i, j], fmt),\n",
    "                 horizontalalignment=\"center\",\n",
    "                 color=\"white\" if cm[i, j] > thresh else \"black\")\n",
    "\n",
    "    plt.tight_layout()\n",
    "    plt.ylabel('True label')\n",
    "    plt.xlabel('Predicted label')\n"
   ]
  },
  {
   "cell_type": "code",
   "execution_count": 24,
   "metadata": {
    "scrolled": true
   },
   "outputs": [
    {
     "name": "stdout",
     "output_type": "stream",
     "text": [
      "Confusion matrix, without normalization\n",
      "[[ 84  63  51]\n",
      " [195 267 137]\n",
      " [ 13  16  12]]\n"
     ]
    },
    {
     "data": {
      "image/png": "[encoded data removed]",
      "text/plain": [
       "<Figure size 432x288 with 2 Axes>"
      ]
     },
     "metadata": {},
     "output_type": "display_data"
    }
   ],
   "source": [
    "cnf_matrix=confusion_matrix(true_classes, pred_classes)\n",
    "plt.figure()\n",
    "plot_confusion_matrix(cnf_matrix, classes=('maln_mam','maln_normal','maln_sam'))"
   ]
  },
  {
   "cell_type": "markdown",
   "metadata": {},
   "source": [
    "# Model ensembling"
   ]
  },
  {
   "cell_type": "code",
   "execution_count": 85,
   "metadata": {},
   "outputs": [],
   "source": [
    "from sklearn.svm import SVC\n",
    "from sklearn.ensemble import ExtraTreesClassifier\n",
    "from sklearn.ensemble import RandomForestClassifier\n",
    "from sklearn.linear_model import LogisticRegression,LogisticRegressionCV\n",
    "from sklearn.model_selection import cross_val_predict"
   ]
  },
  {
   "cell_type": "code",
   "execution_count": 40,
   "metadata": {},
   "outputs": [],
   "source": [
    "model_1=load_model('dense_resnetfeats_32_8(dropout05_upsampled2x)_leakyrelu.h5')\n",
    "model_2=load_model('dense_resnetfeats_64_32(dropout05_upsampled2x)_leakyrelu.h5')\n",
    "model_3=load_model('dense_resnetfeats_128_16(dropout05_upsampled2x)_leakyrelu.h5')\n"
   ]
  },
  {
   "cell_type": "code",
   "execution_count": 41,
   "metadata": {},
   "outputs": [
    {
     "name": "stdout",
     "output_type": "stream",
     "text": [
      "838/838 [==============================] - 0s 288us/step\n",
      "838/838 [==============================] - 0s 324us/step\n",
      "838/838 [==============================] - 0s 342us/step\n"
     ]
    }
   ],
   "source": [
    "prediction_1=model_1.predict(X_test, verbose=1)\n",
    "prediction_2=model_2.predict(X_test, verbose=1)\n",
    "prediction_3=model_3.predict(X_test, verbose=1)"
   ]
  },
  {
   "cell_type": "code",
   "execution_count": 42,
   "metadata": {},
   "outputs": [],
   "source": [
    "total_pred=np.concatenate((prediction_1, prediction_2,prediction_3), axis=1)\n",
    "total_target=np.argmax(y_test, axis=1)"
   ]
  },
  {
   "cell_type": "code",
   "execution_count": 43,
   "metadata": {},
   "outputs": [
    {
     "data": {
      "text/plain": [
       "0.5513126491646778"
      ]
     },
     "execution_count": 43,
     "metadata": {},
     "output_type": "execute_result"
    }
   ],
   "source": [
    "## take the mean of hte predicted values\n",
    "final_pred=[]\n",
    "for i, prob in enumerate(total_pred):\n",
    "    class0_mean=np.mean((prob[0],prob[3],prob[6]))\n",
    "    class1_mean=np.mean((prob[1],prob[4],prob[7]))\n",
    "    class2_mean=np.mean((prob[2],prob[5],prob[8]))\n",
    "    mean_pred=[class0_mean, class1_mean, class2_mean]\n",
    "    final_pred.append(np.argmax(mean_pred))  \n",
    "    \n",
    "accuracy_score(total_target, final_pred)    "
   ]
  },
  {
   "cell_type": "code",
   "execution_count": 413,
   "metadata": {},
   "outputs": [],
   "source": [
    "#take prediction 2\n",
    "prediction_2_label=np.argmax(prediction_2, axis=1)\n",
    "prediction_2_label=pd.DataFrame({'single_model_classification':prediction_2_label})\n",
    "#y_test_labeled\n",
    "#print(y_test_labeled[3])\n",
    "label_128_16=pd.DataFrame(prediction_2_label['single_model_classification'].map({0:'mam', 1:'normal', 2:'sam'}))\n",
    "label_128_16.to_csv('y_test_128_16_pred.csv', index=False)"
   ]
  },
  {
   "cell_type": "code",
   "execution_count": 405,
   "metadata": {},
   "outputs": [],
   "source": [
    "#final_pred\n",
    "\n",
    "y_test_labeled=pd.DataFrame({'ensemble_classification':final_pred})\n",
    "#y_test_labeled\n",
    "#print(y_test_labeled[3])\n",
    "y_test_ensemble=pd.DataFrame(y_test_labeled['ensemble_classification'].map({0:'mam', 1:'normal', 2:'sam'}))\n",
    "y_test_ensemble.to_csv('y_test_ensemble_pred.csv', index=False)"
   ]
  },
  {
   "cell_type": "code",
   "execution_count": 24,
   "metadata": {},
   "outputs": [
    {
     "ename": "NameError",
     "evalue": "name 'total_target' is not defined",
     "output_type": "error",
     "traceback": [
      "\u001b[0;31m---------------------------------------------------------------------------\u001b[0m",
      "\u001b[0;31mNameError\u001b[0m                                 Traceback (most recent call last)",
      "\u001b[0;32m<ipython-input-24-2f041f2c156f>\u001b[0m in \u001b[0;36m<module>\u001b[0;34m()\u001b[0m\n\u001b[0;32m----> 1\u001b[0;31m \u001b[0mcnf_matrix\u001b[0m\u001b[0;34m=\u001b[0m\u001b[0mconfusion_matrix\u001b[0m\u001b[0;34m(\u001b[0m\u001b[0mtotal_target\u001b[0m\u001b[0;34m,\u001b[0m \u001b[0mfinal_pred\u001b[0m\u001b[0;34m)\u001b[0m\u001b[0;34m\u001b[0m\u001b[0m\n\u001b[0m\u001b[1;32m      2\u001b[0m \u001b[0mplt\u001b[0m\u001b[0;34m.\u001b[0m\u001b[0mfigure\u001b[0m\u001b[0;34m(\u001b[0m\u001b[0;34m)\u001b[0m\u001b[0;34m\u001b[0m\u001b[0m\n\u001b[1;32m      3\u001b[0m \u001b[0mplot_confusion_matrix\u001b[0m\u001b[0;34m(\u001b[0m\u001b[0mcnf_matrix\u001b[0m\u001b[0;34m,\u001b[0m \u001b[0mclasses\u001b[0m\u001b[0;34m=\u001b[0m\u001b[0;34m(\u001b[0m\u001b[0;34m'maln_mam'\u001b[0m\u001b[0;34m,\u001b[0m\u001b[0;34m'maln_normal'\u001b[0m\u001b[0;34m,\u001b[0m\u001b[0;34m'maln_sam'\u001b[0m\u001b[0;34m)\u001b[0m\u001b[0;34m)\u001b[0m\u001b[0;34m\u001b[0m\u001b[0m\n",
      "\u001b[0;31mNameError\u001b[0m: name 'total_target' is not defined"
     ]
    }
   ],
   "source": [
    "cnf_matrix=confusion_matrix(total_target, final_pred)\n",
    "plt.figure()\n",
    "plot_confusion_matrix(cnf_matrix, classes=('maln_mam','maln_normal','maln_sam'))"
   ]
  },
  {
   "cell_type": "code",
   "execution_count": 86,
   "metadata": {},
   "outputs": [
    {
     "data": {
      "text/plain": [
       "LogisticRegression(C=1.0, class_weight='balanced', dual=False,\n",
       "          fit_intercept=True, intercept_scaling=1, max_iter=100,\n",
       "          multi_class='ovr', n_jobs=1, penalty='l2', random_state=18,\n",
       "          solver='liblinear', tol=0.0001, verbose=0, warm_start=False)"
      ]
     },
     "execution_count": 86,
     "metadata": {},
     "output_type": "execute_result"
    }
   ],
   "source": [
    "#try LR\n",
    "clf = LogisticRegression(random_state=18,class_weight='balanced',tol=0.0001)\n",
    "clf"
   ]
  },
  {
   "cell_type": "code",
   "execution_count": 93,
   "metadata": {},
   "outputs": [],
   "source": [
    "lr_model=clf.fit(total_pred, total_target)"
   ]
  },
  {
   "cell_type": "code",
   "execution_count": 94,
   "metadata": {},
   "outputs": [
    {
     "data": {
      "text/plain": [
       "0.6587112171837709"
      ]
     },
     "execution_count": 94,
     "metadata": {},
     "output_type": "execute_result"
    }
   ],
   "source": [
    "lr_pred = cross_val_predict(clf, total_pred, total_target, cv=5)\n",
    "accuracy_score(total_target, lr_pred) "
   ]
  },
  {
   "cell_type": "code",
   "execution_count": 108,
   "metadata": {},
   "outputs": [
    {
     "name": "stdout",
     "output_type": "stream",
     "text": [
      "Confusion matrix, without normalization\n",
      "[[ 23 168   7]\n",
      " [ 56 529  14]\n",
      " [  6  35   0]]\n"
     ]
    },
    {
     "data": {
      "image/png": "[encoded data removed]",
      "text/plain": [
       "<Figure size 432x288 with 2 Axes>"
      ]
     },
     "metadata": {},
     "output_type": "display_data"
    }
   ],
   "source": [
    "cnf_matrix=confusion_matrix(total_target, lr_pred)\n",
    "plt.figure()\n",
    "plot_confusion_matrix(cnf_matrix, classes=('maln_mam','maln_normal','maln_sam'))"
   ]
  },
  {
   "cell_type": "markdown",
   "metadata": {},
   "source": [
    "# SVM fit on three models"
   ]
  },
  {
   "cell_type": "code",
   "execution_count": 55,
   "metadata": {},
   "outputs": [],
   "source": [
    "from sklearn.metrics import accuracy_score\n",
    "from sklearn.model_selection import cross_val_score"
   ]
  },
  {
   "cell_type": "code",
   "execution_count": 96,
   "metadata": {},
   "outputs": [],
   "source": [
    "x_train_svm, x_test_svm, y_train_svm, y_test_svm = train_test_split(total_pred, total_target, test_size=0.2, \n",
    "                                                        random_state=42, stratify=total_target)\n"
   ]
  },
  {
   "cell_type": "code",
   "execution_count": 97,
   "metadata": {},
   "outputs": [
    {
     "name": "stdout",
     "output_type": "stream",
     "text": [
      "(670, 9)\n",
      "(168, 9)\n"
     ]
    }
   ],
   "source": [
    "print(x_train_svm.shape)\n",
    "print(x_test_svm.shape)"
   ]
  },
  {
   "cell_type": "code",
   "execution_count": 110,
   "metadata": {},
   "outputs": [],
   "source": [
    "clf = SVC(C=1.0, kernel='rbf',random_state=18,class_weight='balanced',tol=0.0001)"
   ]
  },
  {
   "cell_type": "code",
   "execution_count": 102,
   "metadata": {},
   "outputs": [],
   "source": [
    "svm_model=clf.fit(x_train_svm, y_train_svm)"
   ]
  },
  {
   "cell_type": "code",
   "execution_count": 103,
   "metadata": {},
   "outputs": [
    {
     "data": {
      "text/plain": [
       "0.44047619047619047"
      ]
     },
     "execution_count": 103,
     "metadata": {},
     "output_type": "execute_result"
    }
   ],
   "source": [
    "svm_pred=svm_model.predict(x_test_svm)\n",
    "svm_model.score(x_test_svm, y_test_svm) #accuracy"
   ]
  },
  {
   "cell_type": "code",
   "execution_count": 104,
   "metadata": {},
   "outputs": [
    {
     "name": "stdout",
     "output_type": "stream",
     "text": [
      "[0.3964497  0.39285714 0.45833333 0.29341317 0.43975904]\n"
     ]
    }
   ],
   "source": [
    "cv_score = cross_val_score(svm_model, total_pred, total_target, cv=5)\n",
    "print(cv_score)"
   ]
  },
  {
   "cell_type": "code",
   "execution_count": 111,
   "metadata": {},
   "outputs": [
    {
     "data": {
      "text/plain": [
       "0.39618138424821003"
      ]
     },
     "execution_count": 111,
     "metadata": {},
     "output_type": "execute_result"
    }
   ],
   "source": [
    "svm_cv_pred = cross_val_predict(clf, total_pred, total_target, cv=5)\n",
    "accuracy_score(total_target, svm_cv_pred) "
   ]
  },
  {
   "cell_type": "code",
   "execution_count": 113,
   "metadata": {},
   "outputs": [
    {
     "name": "stdout",
     "output_type": "stream",
     "text": [
      "Confusion matrix, without normalization\n",
      "[[ 73  46  79]\n",
      " [188 251 160]\n",
      " [ 21  12   8]]\n"
     ]
    },
    {
     "data": {
      "image/png": "[encoded data removed]",
      "text/plain": [
       "<Figure size 432x288 with 2 Axes>"
      ]
     },
     "metadata": {},
     "output_type": "display_data"
    }
   ],
   "source": [
    "cnf_matrix=confusion_matrix(total_target, svm_cv_pred)\n",
    "plt.figure()\n",
    "plot_confusion_matrix(cnf_matrix, classes=('maln_mam','maln_normal','maln_sam'))"
   ]
  },
  {
   "cell_type": "markdown",
   "metadata": {},
   "source": [
    "# Extra tree"
   ]
  },
  {
   "cell_type": "code",
   "execution_count": 114,
   "metadata": {},
   "outputs": [],
   "source": [
    "e_tree = ExtraTreesClassifier(n_estimators=40, max_depth=None,min_samples_split=2, max_features=None,\n",
    "                              random_state=18,class_weight='balanced')"
   ]
  },
  {
   "cell_type": "code",
   "execution_count": 115,
   "metadata": {},
   "outputs": [
    {
     "data": {
      "text/plain": [
       "ExtraTreesClassifier(bootstrap=False, class_weight='balanced',\n",
       "           criterion='gini', max_depth=None, max_features=None,\n",
       "           max_leaf_nodes=None, min_impurity_decrease=0.0,\n",
       "           min_impurity_split=None, min_samples_leaf=1,\n",
       "           min_samples_split=2, min_weight_fraction_leaf=0.0,\n",
       "           n_estimators=40, n_jobs=1, oob_score=False, random_state=18,\n",
       "           verbose=0, warm_start=False)"
      ]
     },
     "execution_count": 115,
     "metadata": {},
     "output_type": "execute_result"
    }
   ],
   "source": [
    "e_tree.fit(x_train_svm, y_train_svm)"
   ]
  },
  {
   "cell_type": "code",
   "execution_count": 60,
   "metadata": {},
   "outputs": [
    {
     "data": {
      "text/plain": [
       "0.6964285714285714"
      ]
     },
     "execution_count": 60,
     "metadata": {},
     "output_type": "execute_result"
    }
   ],
   "source": [
    "#for stratified validation sample\n",
    "e_tree_pred=e_tree.predict(x_test_svm)\n",
    "e_tree.score(x_test_svm, y_test_svm) #accuracy\n"
   ]
  },
  {
   "cell_type": "code",
   "execution_count": 62,
   "metadata": {},
   "outputs": [
    {
     "name": "stdout",
     "output_type": "stream",
     "text": [
      "[0.65680473 0.625      0.69047619 0.64071856 0.70481928]\n"
     ]
    }
   ],
   "source": [
    "cv_score = cross_val_score(e_tree, total_pred, total_target, cv=5)\n",
    "print(cv_score)"
   ]
  },
  {
   "cell_type": "code",
   "execution_count": 116,
   "metadata": {},
   "outputs": [
    {
     "data": {
      "text/plain": [
       "0.6634844868735084"
      ]
     },
     "execution_count": 116,
     "metadata": {},
     "output_type": "execute_result"
    }
   ],
   "source": [
    "etree_cv_pred = cross_val_predict(e_tree, total_pred, total_target, cv=5)\n",
    "accuracy_score(total_target, etree_cv_pred) "
   ]
  },
  {
   "cell_type": "code",
   "execution_count": 117,
   "metadata": {},
   "outputs": [
    {
     "name": "stdout",
     "output_type": "stream",
     "text": [
      "Confusion matrix, without normalization\n",
      "[[ 14 183   1]\n",
      " [ 54 540   5]\n",
      " [  1  38   2]]\n"
     ]
    },
    {
     "data": {
      "image/png": "[encoded data removed]",
      "text/plain": [
       "<Figure size 432x288 with 2 Axes>"
      ]
     },
     "metadata": {},
     "output_type": "display_data"
    }
   ],
   "source": [
    "cnf_matrix=confusion_matrix(total_target,etree_cv_pred)\n",
    "plt.figure()\n",
    "plot_confusion_matrix(cnf_matrix, classes=('maln_mam','maln_normal','maln_sam'))"
   ]
  },
  {
   "cell_type": "markdown",
   "metadata": {},
   "source": [
    "# Random Forest did not perform well, it didn't catch the any of the sam class"
   ]
  },
  {
   "cell_type": "code",
   "execution_count": 65,
   "metadata": {},
   "outputs": [],
   "source": [
    "rf = RandomForestClassifier(n_estimators=40, max_depth=None, min_samples_split=2, \n",
    "                            class_weight='balanced',random_state=18)"
   ]
  },
  {
   "cell_type": "code",
   "execution_count": 66,
   "metadata": {},
   "outputs": [
    {
     "data": {
      "text/plain": [
       "RandomForestClassifier(bootstrap=True, class_weight='balanced',\n",
       "            criterion='gini', max_depth=None, max_features='auto',\n",
       "            max_leaf_nodes=None, min_impurity_decrease=0.0,\n",
       "            min_impurity_split=None, min_samples_leaf=1,\n",
       "            min_samples_split=2, min_weight_fraction_leaf=0.0,\n",
       "            n_estimators=40, n_jobs=1, oob_score=False, random_state=18,\n",
       "            verbose=0, warm_start=False)"
      ]
     },
     "execution_count": 66,
     "metadata": {},
     "output_type": "execute_result"
    }
   ],
   "source": [
    "rf.fit(x_train_svm, y_train_svm)"
   ]
  },
  {
   "cell_type": "code",
   "execution_count": 67,
   "metadata": {},
   "outputs": [
    {
     "data": {
      "text/plain": [
       "0.6964285714285714"
      ]
     },
     "execution_count": 67,
     "metadata": {},
     "output_type": "execute_result"
    }
   ],
   "source": [
    "#for stratified validation sample\n",
    "rf_pred=rf.predict(x_test_svm)\n",
    "rf.score(x_test_svm, y_test_svm) #accuracy\n"
   ]
  },
  {
   "cell_type": "code",
   "execution_count": 69,
   "metadata": {},
   "outputs": [
    {
     "name": "stdout",
     "output_type": "stream",
     "text": [
      "[0.67455621 0.64285714 0.7202381  0.65269461 0.71686747]\n"
     ]
    }
   ],
   "source": [
    "cv_score = cross_val_score(rf, total_pred, total_target, cv=5)\n",
    "print(cv_score)"
   ]
  },
  {
   "cell_type": "code",
   "execution_count": 70,
   "metadata": {},
   "outputs": [
    {
     "name": "stdout",
     "output_type": "stream",
     "text": [
      "Confusion matrix, without normalization\n",
      "[[  6  34   0]\n",
      " [  9 111   0]\n",
      " [  0   8   0]]\n"
     ]
    },
    {
     "data": {
      "image/png": "[encoded data removed]",
      "text/plain": [
       "<Figure size 432x288 with 2 Axes>"
      ]
     },
     "metadata": {},
     "output_type": "display_data"
    }
   ],
   "source": [
    "cnf_matrix=confusion_matrix(y_test_svm,rf_pred)\n",
    "plt.figure()\n",
    "plot_confusion_matrix(cnf_matrix, classes=('maln_mam','maln_normal','maln_sam'))"
   ]
  },
  {
   "cell_type": "code",
   "execution_count": 325,
   "metadata": {},
   "outputs": [],
   "source": [
    "## xgb?\n",
    "import xgboost as xgb\n",
    "from xgboost.sklearn import XGBClassifier\n"
   ]
  },
  {
   "cell_type": "code",
   "execution_count": 356,
   "metadata": {},
   "outputs": [],
   "source": [
    "xgb = XGBClassifier(objective='multi:softprob', n_estimators=100, subsample=0.7, gamma=2.0,learning_rate=0.001,\n",
    "                   max_depth=10,random_state=18)\n"
   ]
  },
  {
   "cell_type": "code",
   "execution_count": 357,
   "metadata": {},
   "outputs": [
    {
     "data": {
      "text/plain": [
       "XGBClassifier(base_score=0.5, booster='gbtree', colsample_bylevel=1,\n",
       "       colsample_bytree=1, gamma=2.0, learning_rate=0.001,\n",
       "       max_delta_step=0, max_depth=10, min_child_weight=1, missing=None,\n",
       "       n_estimators=100, n_jobs=1, nthread=None,\n",
       "       objective='multi:softprob', random_state=18, reg_alpha=0,\n",
       "       reg_lambda=1, scale_pos_weight=1, seed=None, silent=True,\n",
       "       subsample=0.7)"
      ]
     },
     "execution_count": 357,
     "metadata": {},
     "output_type": "execute_result"
    }
   ],
   "source": [
    "xgb.fit(x_train_svm, y_train_svm)"
   ]
  },
  {
   "cell_type": "code",
   "execution_count": 358,
   "metadata": {},
   "outputs": [
    {
     "name": "stderr",
     "output_type": "stream",
     "text": [
      "/usr/local/lib/python3.5/dist-packages/sklearn/preprocessing/label.py:151: DeprecationWarning: The truth value of an empty array is ambiguous. Returning False, but in future this will result in an error. Use `array.size > 0` to check that an array is not empty.\n",
      "  if diff:\n"
     ]
    },
    {
     "data": {
      "text/plain": [
       "0.7261904761904762"
      ]
     },
     "execution_count": 358,
     "metadata": {},
     "output_type": "execute_result"
    }
   ],
   "source": [
    "#for stratified validation sample\n",
    "xgb_pred=rf.predict(x_test_svm)\n",
    "xgb.score(x_test_svm, y_test_svm) #accuracy\n"
   ]
  },
  {
   "cell_type": "code",
   "execution_count": 359,
   "metadata": {
    "scrolled": true
   },
   "outputs": [
    {
     "name": "stderr",
     "output_type": "stream",
     "text": [
      "/usr/local/lib/python3.5/dist-packages/sklearn/preprocessing/label.py:151: DeprecationWarning: The truth value of an empty array is ambiguous. Returning False, but in future this will result in an error. Use `array.size > 0` to check that an array is not empty.\n",
      "  if diff:\n",
      "/usr/local/lib/python3.5/dist-packages/sklearn/preprocessing/label.py:151: DeprecationWarning: The truth value of an empty array is ambiguous. Returning False, but in future this will result in an error. Use `array.size > 0` to check that an array is not empty.\n",
      "  if diff:\n",
      "/usr/local/lib/python3.5/dist-packages/sklearn/preprocessing/label.py:151: DeprecationWarning: The truth value of an empty array is ambiguous. Returning False, but in future this will result in an error. Use `array.size > 0` to check that an array is not empty.\n",
      "  if diff:\n",
      "/usr/local/lib/python3.5/dist-packages/sklearn/preprocessing/label.py:151: DeprecationWarning: The truth value of an empty array is ambiguous. Returning False, but in future this will result in an error. Use `array.size > 0` to check that an array is not empty.\n",
      "  if diff:\n"
     ]
    },
    {
     "name": "stdout",
     "output_type": "stream",
     "text": [
      "[0.70414201 0.66071429 0.71428571 0.7005988  0.71084337]\n"
     ]
    },
    {
     "name": "stderr",
     "output_type": "stream",
     "text": [
      "/usr/local/lib/python3.5/dist-packages/sklearn/preprocessing/label.py:151: DeprecationWarning: The truth value of an empty array is ambiguous. Returning False, but in future this will result in an error. Use `array.size > 0` to check that an array is not empty.\n",
      "  if diff:\n"
     ]
    }
   ],
   "source": [
    "cv_score = cross_val_score(xgb, total_pred_svm, total_target_svm, cv=5)\n",
    "print(cv_score)"
   ]
  },
  {
   "cell_type": "code",
   "execution_count": 360,
   "metadata": {},
   "outputs": [
    {
     "name": "stdout",
     "output_type": "stream",
     "text": [
      "Confusion matrix, without normalization\n",
      "[[  7  33   0]\n",
      " [  5 115   0]\n",
      " [  0   8   0]]\n"
     ]
    },
    {
     "data": {
      "image/png": "[encoded data removed]",
      "text/plain": [
       "<Figure size 432x288 with 2 Axes>"
      ]
     },
     "metadata": {},
     "output_type": "display_data"
    }
   ],
   "source": [
    "cnf_matrix=confusion_matrix(y_test_svm,xgb_pred)\n",
    "plt.figure()\n",
    "plot_confusion_matrix(cnf_matrix, classes=('maln_mam','maln_normal','maln_sam'))"
   ]
  }
 ],
 "metadata": {
  "kernelspec": {
   "display_name": "Python 3",
   "language": "python",
   "name": "python3"
  },
  "language_info": {
   "codemirror_mode": {
    "name": "ipython",
    "version": 3
   },
   "file_extension": ".py",
   "mimetype": "text/x-python",
   "name": "python",
   "nbconvert_exporter": "python",
   "pygments_lexer": "ipython3",
   "version": "3.6.5"
  }
 },
 "nbformat": 4,
 "nbformat_minor": 2
}
