{
 "cells": [
  {
   "cell_type": "code",
   "execution_count": 1,
   "metadata": {},
   "outputs": [
    {
     "name": "stderr",
     "output_type": "stream",
     "text": [
      "/usr/local/lib/python3.5/dist-packages/h5py/__init__.py:36: FutureWarning: Conversion of the second argument of issubdtype from `float` to `np.floating` is deprecated. In future, it will be treated as `np.float64 == np.dtype(float).type`.\n",
      "  from ._conv import register_converters as _register_converters\n",
      "Using TensorFlow backend.\n"
     ]
    }
   ],
   "source": [
    "import numpy as np\n",
    "import os\n",
    "import pandas as pd\n",
    "from sklearn.model_selection import train_test_split\n",
    "from keras.callbacks import EarlyStopping, ModelCheckpoint\n",
    "from keras.models import load_model\n",
    "from sklearn.preprocessing import StandardScaler, maxabs_scale\n",
    "from keras.optimizers import Adam, SGD\n",
    "import matplotlib.pyplot as plt\n",
    "%matplotlib inline\n",
    "from sklearn.metrics import roc_auc_score,f1_score, roc_curve, auc, accuracy_score, confusion_matrix\n",
    "import shutil\n",
    "import seaborn as sns"
   ]
  },
  {
   "cell_type": "code",
   "execution_count": 2,
   "metadata": {},
   "outputs": [],
   "source": [
    "from model import MeronSmart, ml_models,plot_confusion_matrix"
   ]
  },
  {
   "cell_type": "code",
   "execution_count": 3,
   "metadata": {},
   "outputs": [],
   "source": [
    "meron = MeronSmart()"
   ]
  },
  {
   "cell_type": "code",
   "execution_count": 40,
   "metadata": {},
   "outputs": [],
   "source": [
    "regression_model = meron.build_model(neurons=[128,32],dropout=0.5,task_type='regression',n_hidden_layers=2)"
   ]
  },
  {
   "cell_type": "code",
   "execution_count": 17,
   "metadata": {},
   "outputs": [
    {
     "name": "stdout",
     "output_type": "stream",
     "text": [
      "_________________________________________________________________\n",
      "Layer (type)                 Output Shape              Param #   \n",
      "=================================================================\n",
      "dense_4 (Dense)              (None, 256)               525056    \n",
      "_________________________________________________________________\n",
      "leaky_re_lu_4 (LeakyReLU)    (None, 256)               0         \n",
      "_________________________________________________________________\n",
      "dropout_3 (Dropout)          (None, 256)               0         \n",
      "_________________________________________________________________\n",
      "dense_5 (Dense)              (None, 32)                8224      \n",
      "_________________________________________________________________\n",
      "leaky_re_lu_5 (LeakyReLU)    (None, 32)                0         \n",
      "_________________________________________________________________\n",
      "dropout_4 (Dropout)          (None, 32)                0         \n",
      "_________________________________________________________________\n",
      "dense_6 (Dense)              (None, 1)                 33        \n",
      "=================================================================\n",
      "Total params: 533,313\n",
      "Trainable params: 533,313\n",
      "Non-trainable params: 0\n",
      "_________________________________________________________________\n"
     ]
    }
   ],
   "source": [
    "regression_model.summary()"
   ]
  },
  {
   "cell_type": "code",
   "execution_count": 18,
   "metadata": {},
   "outputs": [],
   "source": [
    "merged_df = pd.read_csv('/data/meron/kenya_data/meron_merged_mal(sam_mam_upsampled)_muac.csv')\n",
    "meta_data = pd.read_csv('/data/meron/kenya_data/meron_link_data/meron_meta_processed.csv')\n",
    "sam_names=pd.read_csv('/data/meron/sam_photo_ids.csv')\n",
    "mam_names=pd.read_csv('/data/meron/mam_photo_ids.csv')\n",
    "\n",
    "#use wfh in meta_data to filter out the extreme outliers\n",
    "merged_df=merged_df[(merged_df['wfh']<4) & (merged_df['wfh']> -4)]"
   ]
  },
  {
   "cell_type": "code",
   "execution_count": 92,
   "metadata": {},
   "outputs": [
    {
     "data": {
      "text/html": [
       "<div>\n",
       "<style scoped>\n",
       "    .dataframe tbody tr th:only-of-type {\n",
       "        vertical-align: middle;\n",
       "    }\n",
       "\n",
       "    .dataframe tbody tr th {\n",
       "        vertical-align: top;\n",
       "    }\n",
       "\n",
       "    .dataframe thead th {\n",
       "        text-align: right;\n",
       "    }\n",
       "</style>\n",
       "<table border=\"1\" class=\"dataframe\">\n",
       "  <thead>\n",
       "    <tr style=\"text-align: right;\">\n",
       "      <th></th>\n",
       "      <th>photo_id</th>\n",
       "      <th>0</th>\n",
       "      <th>1</th>\n",
       "      <th>2</th>\n",
       "      <th>3</th>\n",
       "      <th>4</th>\n",
       "      <th>5</th>\n",
       "      <th>6</th>\n",
       "      <th>7</th>\n",
       "      <th>8</th>\n",
       "      <th>...</th>\n",
       "      <th>2046</th>\n",
       "      <th>2047</th>\n",
       "      <th>gender_male</th>\n",
       "      <th>age_months</th>\n",
       "      <th>maln_mam</th>\n",
       "      <th>maln_normal</th>\n",
       "      <th>maln_sam</th>\n",
       "      <th>wfh</th>\n",
       "      <th>maln_class</th>\n",
       "      <th>muac_prediction</th>\n",
       "    </tr>\n",
       "  </thead>\n",
       "  <tbody>\n",
       "    <tr>\n",
       "      <th>0</th>\n",
       "      <td>1517384891739.jpg</td>\n",
       "      <td>0.157335</td>\n",
       "      <td>0.015997</td>\n",
       "      <td>0.707683</td>\n",
       "      <td>0.009274</td>\n",
       "      <td>0.000000</td>\n",
       "      <td>0.698504</td>\n",
       "      <td>1.974866</td>\n",
       "      <td>6.329210</td>\n",
       "      <td>0.0</td>\n",
       "      <td>...</td>\n",
       "      <td>1.867832</td>\n",
       "      <td>0.024899</td>\n",
       "      <td>0</td>\n",
       "      <td>32.0</td>\n",
       "      <td>1</td>\n",
       "      <td>0</td>\n",
       "      <td>0</td>\n",
       "      <td>-2.97</td>\n",
       "      <td>mam</td>\n",
       "      <td>normal</td>\n",
       "    </tr>\n",
       "    <tr>\n",
       "      <th>1</th>\n",
       "      <td>1517384891739.jpg</td>\n",
       "      <td>0.000000</td>\n",
       "      <td>0.000000</td>\n",
       "      <td>1.571181</td>\n",
       "      <td>0.000000</td>\n",
       "      <td>0.000000</td>\n",
       "      <td>0.627390</td>\n",
       "      <td>1.353355</td>\n",
       "      <td>6.647170</td>\n",
       "      <td>0.0</td>\n",
       "      <td>...</td>\n",
       "      <td>2.161191</td>\n",
       "      <td>0.000000</td>\n",
       "      <td>0</td>\n",
       "      <td>32.0</td>\n",
       "      <td>1</td>\n",
       "      <td>0</td>\n",
       "      <td>0</td>\n",
       "      <td>-2.97</td>\n",
       "      <td>mam</td>\n",
       "      <td>normal</td>\n",
       "    </tr>\n",
       "    <tr>\n",
       "      <th>2</th>\n",
       "      <td>1517478268776.jpg</td>\n",
       "      <td>0.045922</td>\n",
       "      <td>0.000000</td>\n",
       "      <td>3.087823</td>\n",
       "      <td>0.000000</td>\n",
       "      <td>0.331306</td>\n",
       "      <td>1.069497</td>\n",
       "      <td>1.636940</td>\n",
       "      <td>1.760356</td>\n",
       "      <td>0.0</td>\n",
       "      <td>...</td>\n",
       "      <td>4.154829</td>\n",
       "      <td>0.812403</td>\n",
       "      <td>1</td>\n",
       "      <td>19.0</td>\n",
       "      <td>1</td>\n",
       "      <td>0</td>\n",
       "      <td>0</td>\n",
       "      <td>-2.09</td>\n",
       "      <td>mam</td>\n",
       "      <td>normal</td>\n",
       "    </tr>\n",
       "    <tr>\n",
       "      <th>3</th>\n",
       "      <td>1517478268776.jpg</td>\n",
       "      <td>0.181375</td>\n",
       "      <td>0.000000</td>\n",
       "      <td>3.747156</td>\n",
       "      <td>0.022242</td>\n",
       "      <td>1.065049</td>\n",
       "      <td>1.856126</td>\n",
       "      <td>1.670891</td>\n",
       "      <td>2.034269</td>\n",
       "      <td>0.0</td>\n",
       "      <td>...</td>\n",
       "      <td>3.283012</td>\n",
       "      <td>1.401969</td>\n",
       "      <td>1</td>\n",
       "      <td>19.0</td>\n",
       "      <td>1</td>\n",
       "      <td>0</td>\n",
       "      <td>0</td>\n",
       "      <td>-2.09</td>\n",
       "      <td>mam</td>\n",
       "      <td>normal</td>\n",
       "    </tr>\n",
       "    <tr>\n",
       "      <th>4</th>\n",
       "      <td>1517238175403.jpg</td>\n",
       "      <td>0.000000</td>\n",
       "      <td>0.369026</td>\n",
       "      <td>2.461378</td>\n",
       "      <td>2.946527</td>\n",
       "      <td>0.661946</td>\n",
       "      <td>4.072535</td>\n",
       "      <td>0.526728</td>\n",
       "      <td>6.682256</td>\n",
       "      <td>0.0</td>\n",
       "      <td>...</td>\n",
       "      <td>2.062518</td>\n",
       "      <td>0.352439</td>\n",
       "      <td>1</td>\n",
       "      <td>18.0</td>\n",
       "      <td>0</td>\n",
       "      <td>1</td>\n",
       "      <td>0</td>\n",
       "      <td>-1.16</td>\n",
       "      <td>normal</td>\n",
       "      <td>normal</td>\n",
       "    </tr>\n",
       "  </tbody>\n",
       "</table>\n",
       "<p>5 rows × 2057 columns</p>\n",
       "</div>"
      ],
      "text/plain": [
       "            photo_id         0         1         2         3         4  \\\n",
       "0  1517384891739.jpg  0.157335  0.015997  0.707683  0.009274  0.000000   \n",
       "1  1517384891739.jpg  0.000000  0.000000  1.571181  0.000000  0.000000   \n",
       "2  1517478268776.jpg  0.045922  0.000000  3.087823  0.000000  0.331306   \n",
       "3  1517478268776.jpg  0.181375  0.000000  3.747156  0.022242  1.065049   \n",
       "4  1517238175403.jpg  0.000000  0.369026  2.461378  2.946527  0.661946   \n",
       "\n",
       "          5         6         7    8       ...             2046      2047  \\\n",
       "0  0.698504  1.974866  6.329210  0.0       ...         1.867832  0.024899   \n",
       "1  0.627390  1.353355  6.647170  0.0       ...         2.161191  0.000000   \n",
       "2  1.069497  1.636940  1.760356  0.0       ...         4.154829  0.812403   \n",
       "3  1.856126  1.670891  2.034269  0.0       ...         3.283012  1.401969   \n",
       "4  4.072535  0.526728  6.682256  0.0       ...         2.062518  0.352439   \n",
       "\n",
       "   gender_male  age_months  maln_mam  maln_normal  maln_sam   wfh  maln_class  \\\n",
       "0            0        32.0         1            0         0 -2.97         mam   \n",
       "1            0        32.0         1            0         0 -2.97         mam   \n",
       "2            1        19.0         1            0         0 -2.09         mam   \n",
       "3            1        19.0         1            0         0 -2.09         mam   \n",
       "4            1        18.0         0            1         0 -1.16      normal   \n",
       "\n",
       "   muac_prediction  \n",
       "0           normal  \n",
       "1           normal  \n",
       "2           normal  \n",
       "3           normal  \n",
       "4           normal  \n",
       "\n",
       "[5 rows x 2057 columns]"
      ]
     },
     "execution_count": 92,
     "metadata": {},
     "output_type": "execute_result"
    }
   ],
   "source": [
    "merged_df.head()"
   ]
  },
  {
   "cell_type": "markdown",
   "metadata": {},
   "source": [
    "# separate the sam samples so duplicates(flipped image) are not distributed evenly in training and test. samples in validation set are not seen in training"
   ]
  },
  {
   "cell_type": "code",
   "execution_count": 19,
   "metadata": {},
   "outputs": [],
   "source": [
    "sam_samples=merged_df.loc[merged_df['photo_id'].isin(sam_names['photo_id'])]\n",
    "mam_samples=merged_df.loc[merged_df['photo_id'].isin(mam_names['photo_id'])]\n",
    "\n",
    "other_samples=merged_df.loc[~merged_df['photo_id'].isin(sam_names['photo_id'])].loc[~merged_df['photo_id'].isin(mam_names['photo_id'])]"
   ]
  },
  {
   "cell_type": "code",
   "execution_count": 8,
   "metadata": {},
   "outputs": [
    {
     "name": "stdout",
     "output_type": "stream",
     "text": [
      "sam sample size:(172, 2057)\n",
      "mam sample size:(944, 2057)\n",
      "other sample size:(3019, 2057)\n"
     ]
    }
   ],
   "source": [
    "print('sam sample size:{}'.format(sam_samples.shape))\n",
    "print('mam sample size:{}'.format(mam_samples.shape))\n",
    "print('other sample size:{}'.format(other_samples.shape))"
   ]
  },
  {
   "cell_type": "code",
   "execution_count": 20,
   "metadata": {},
   "outputs": [
    {
     "name": "stdout",
     "output_type": "stream",
     "text": [
      "sam training size:(137, 2057)\n",
      "sam val size:(35, 2057)\n"
     ]
    }
   ],
   "source": [
    "sam_train=sam_samples[:137]\n",
    "sam_validation=sam_samples[137:]\n",
    "print('sam training size:{}'.format(sam_train.shape))\n",
    "print('sam val size:{}'.format(sam_validation.shape))"
   ]
  },
  {
   "cell_type": "code",
   "execution_count": 21,
   "metadata": {},
   "outputs": [
    {
     "name": "stdout",
     "output_type": "stream",
     "text": [
      "mam training size:(750, 2057)\n",
      "mam val size:(194, 2057)\n"
     ]
    }
   ],
   "source": [
    "mam_train=mam_samples[:750]\n",
    "mam_validation=mam_samples[750:]\n",
    "print('mam training size:{}'.format(mam_train.shape))\n",
    "print('mam val size:{}'.format(mam_validation.shape))"
   ]
  },
  {
   "cell_type": "code",
   "execution_count": 22,
   "metadata": {},
   "outputs": [],
   "source": [
    "## fetch target variable wfh\n",
    "target_sam_train = np.array(sam_train['wfh'])\n",
    "target_sam_validation=np.array(sam_validation['wfh'])\n",
    "\n",
    "target_mam_train = np.array(mam_train['wfh'])\n",
    "target_mam_validation=np.array(mam_validation['wfh'])\n",
    "\n",
    "target_other=np.array(other_samples['wfh'])"
   ]
  },
  {
   "cell_type": "code",
   "execution_count": 23,
   "metadata": {},
   "outputs": [],
   "source": [
    "deselect_cols = ['photo_id','maln_mam','maln_normal','maln_sam','wfh','maln_class', 'muac_prediction']"
   ]
  },
  {
   "cell_type": "code",
   "execution_count": 24,
   "metadata": {},
   "outputs": [
    {
     "data": {
      "text/html": [
       "<div>\n",
       "<style scoped>\n",
       "    .dataframe tbody tr th:only-of-type {\n",
       "        vertical-align: middle;\n",
       "    }\n",
       "\n",
       "    .dataframe tbody tr th {\n",
       "        vertical-align: top;\n",
       "    }\n",
       "\n",
       "    .dataframe thead th {\n",
       "        text-align: right;\n",
       "    }\n",
       "</style>\n",
       "<table border=\"1\" class=\"dataframe\">\n",
       "  <thead>\n",
       "    <tr style=\"text-align: right;\">\n",
       "      <th></th>\n",
       "      <th>0</th>\n",
       "      <th>1</th>\n",
       "      <th>2</th>\n",
       "      <th>3</th>\n",
       "      <th>4</th>\n",
       "      <th>5</th>\n",
       "      <th>6</th>\n",
       "      <th>7</th>\n",
       "      <th>8</th>\n",
       "      <th>9</th>\n",
       "      <th>...</th>\n",
       "      <th>2040</th>\n",
       "      <th>2041</th>\n",
       "      <th>2042</th>\n",
       "      <th>2043</th>\n",
       "      <th>2044</th>\n",
       "      <th>2045</th>\n",
       "      <th>2046</th>\n",
       "      <th>2047</th>\n",
       "      <th>gender_male</th>\n",
       "      <th>age_months</th>\n",
       "    </tr>\n",
       "  </thead>\n",
       "  <tbody>\n",
       "    <tr>\n",
       "      <th>4</th>\n",
       "      <td>0.000000</td>\n",
       "      <td>0.369026</td>\n",
       "      <td>2.461378</td>\n",
       "      <td>2.946527</td>\n",
       "      <td>0.661946</td>\n",
       "      <td>4.072535</td>\n",
       "      <td>0.526728</td>\n",
       "      <td>6.682256</td>\n",
       "      <td>0.000000</td>\n",
       "      <td>0.0</td>\n",
       "      <td>...</td>\n",
       "      <td>0.687893</td>\n",
       "      <td>0.000000</td>\n",
       "      <td>0.000000</td>\n",
       "      <td>1.743518</td>\n",
       "      <td>0.575827</td>\n",
       "      <td>0.000000</td>\n",
       "      <td>2.062518</td>\n",
       "      <td>0.352439</td>\n",
       "      <td>1</td>\n",
       "      <td>18.0</td>\n",
       "    </tr>\n",
       "    <tr>\n",
       "      <th>9</th>\n",
       "      <td>6.018714</td>\n",
       "      <td>0.000000</td>\n",
       "      <td>4.922188</td>\n",
       "      <td>0.250943</td>\n",
       "      <td>3.632266</td>\n",
       "      <td>0.441533</td>\n",
       "      <td>2.783796</td>\n",
       "      <td>9.161777</td>\n",
       "      <td>0.000000</td>\n",
       "      <td>0.0</td>\n",
       "      <td>...</td>\n",
       "      <td>0.000000</td>\n",
       "      <td>0.000000</td>\n",
       "      <td>0.451506</td>\n",
       "      <td>3.653616</td>\n",
       "      <td>0.734750</td>\n",
       "      <td>0.000000</td>\n",
       "      <td>0.000000</td>\n",
       "      <td>0.000000</td>\n",
       "      <td>0</td>\n",
       "      <td>25.0</td>\n",
       "    </tr>\n",
       "    <tr>\n",
       "      <th>10</th>\n",
       "      <td>0.302067</td>\n",
       "      <td>0.000000</td>\n",
       "      <td>0.856374</td>\n",
       "      <td>4.006856</td>\n",
       "      <td>0.000000</td>\n",
       "      <td>0.476372</td>\n",
       "      <td>4.314477</td>\n",
       "      <td>11.858264</td>\n",
       "      <td>0.000000</td>\n",
       "      <td>0.0</td>\n",
       "      <td>...</td>\n",
       "      <td>1.534502</td>\n",
       "      <td>0.000000</td>\n",
       "      <td>0.453811</td>\n",
       "      <td>16.605633</td>\n",
       "      <td>0.000000</td>\n",
       "      <td>0.845772</td>\n",
       "      <td>0.506828</td>\n",
       "      <td>0.000000</td>\n",
       "      <td>1</td>\n",
       "      <td>40.0</td>\n",
       "    </tr>\n",
       "    <tr>\n",
       "      <th>11</th>\n",
       "      <td>0.000000</td>\n",
       "      <td>0.296940</td>\n",
       "      <td>4.927894</td>\n",
       "      <td>0.212098</td>\n",
       "      <td>0.008911</td>\n",
       "      <td>1.134834</td>\n",
       "      <td>3.333884</td>\n",
       "      <td>2.954910</td>\n",
       "      <td>1.047672</td>\n",
       "      <td>0.0</td>\n",
       "      <td>...</td>\n",
       "      <td>1.352508</td>\n",
       "      <td>0.005078</td>\n",
       "      <td>0.010983</td>\n",
       "      <td>8.271940</td>\n",
       "      <td>0.000000</td>\n",
       "      <td>0.000000</td>\n",
       "      <td>0.876071</td>\n",
       "      <td>0.032372</td>\n",
       "      <td>0</td>\n",
       "      <td>41.0</td>\n",
       "    </tr>\n",
       "    <tr>\n",
       "      <th>12</th>\n",
       "      <td>0.000000</td>\n",
       "      <td>0.228124</td>\n",
       "      <td>0.801086</td>\n",
       "      <td>0.476915</td>\n",
       "      <td>1.492239</td>\n",
       "      <td>1.457904</td>\n",
       "      <td>1.052291</td>\n",
       "      <td>18.379776</td>\n",
       "      <td>0.000000</td>\n",
       "      <td>0.0</td>\n",
       "      <td>...</td>\n",
       "      <td>0.005074</td>\n",
       "      <td>0.000000</td>\n",
       "      <td>0.000000</td>\n",
       "      <td>12.780549</td>\n",
       "      <td>0.740513</td>\n",
       "      <td>0.000000</td>\n",
       "      <td>1.912864</td>\n",
       "      <td>1.549561</td>\n",
       "      <td>0</td>\n",
       "      <td>28.0</td>\n",
       "    </tr>\n",
       "  </tbody>\n",
       "</table>\n",
       "<p>5 rows × 2050 columns</p>\n",
       "</div>"
      ],
      "text/plain": [
       "           0         1         2         3         4         5         6  \\\n",
       "4   0.000000  0.369026  2.461378  2.946527  0.661946  4.072535  0.526728   \n",
       "9   6.018714  0.000000  4.922188  0.250943  3.632266  0.441533  2.783796   \n",
       "10  0.302067  0.000000  0.856374  4.006856  0.000000  0.476372  4.314477   \n",
       "11  0.000000  0.296940  4.927894  0.212098  0.008911  1.134834  3.333884   \n",
       "12  0.000000  0.228124  0.801086  0.476915  1.492239  1.457904  1.052291   \n",
       "\n",
       "            7         8    9     ...          2040      2041      2042  \\\n",
       "4    6.682256  0.000000  0.0     ...      0.687893  0.000000  0.000000   \n",
       "9    9.161777  0.000000  0.0     ...      0.000000  0.000000  0.451506   \n",
       "10  11.858264  0.000000  0.0     ...      1.534502  0.000000  0.453811   \n",
       "11   2.954910  1.047672  0.0     ...      1.352508  0.005078  0.010983   \n",
       "12  18.379776  0.000000  0.0     ...      0.005074  0.000000  0.000000   \n",
       "\n",
       "         2043      2044      2045      2046      2047  gender_male  age_months  \n",
       "4    1.743518  0.575827  0.000000  2.062518  0.352439            1        18.0  \n",
       "9    3.653616  0.734750  0.000000  0.000000  0.000000            0        25.0  \n",
       "10  16.605633  0.000000  0.845772  0.506828  0.000000            1        40.0  \n",
       "11   8.271940  0.000000  0.000000  0.876071  0.032372            0        41.0  \n",
       "12  12.780549  0.740513  0.000000  1.912864  1.549561            0        28.0  \n",
       "\n",
       "[5 rows x 2050 columns]"
      ]
     },
     "execution_count": 24,
     "metadata": {},
     "output_type": "execute_result"
    }
   ],
   "source": [
    "select = [x for x in merged_df.columns if x not in deselect_cols]\n",
    "sam_train_features = sam_train.loc[:, select]\n",
    "sam_validation_features = sam_validation.loc[:, select]\n",
    "\n",
    "mam_train_features = mam_train.loc[:, select]\n",
    "mam_validation_features = mam_validation.loc[:, select]\n",
    "\n",
    "other_features=other_samples.loc[:, select]\n",
    "other_features.head()"
   ]
  },
  {
   "cell_type": "markdown",
   "metadata": {},
   "source": [
    "# Split data into training and testing sets, then train model"
   ]
  },
  {
   "cell_type": "code",
   "execution_count": 25,
   "metadata": {},
   "outputs": [],
   "source": [
    "whole_data=pd.concat([other_features, sam_train_features, sam_validation_features,mam_train_features,mam_validation_features], axis=0)"
   ]
  },
  {
   "cell_type": "code",
   "execution_count": 26,
   "metadata": {},
   "outputs": [],
   "source": [
    "### scale/standardize the features? Don't need to standardize the target, it's a z-score\n",
    "conv_scaler = StandardScaler().fit(whole_data)\n",
    "sam_train_features_scaled = conv_scaler.transform(sam_train_features)\n",
    "sam_validation_features_scaled=conv_scaler.transform(sam_validation_features)\n",
    "\n",
    "mam_train_features_scaled = conv_scaler.transform(mam_train_features)\n",
    "mam_validation_features_scaled=conv_scaler.transform(mam_validation_features)\n",
    "\n",
    "other_features_scaled=conv_scaler.transform(other_features)"
   ]
  },
  {
   "cell_type": "code",
   "execution_count": 27,
   "metadata": {},
   "outputs": [],
   "source": [
    "### Break data into training and test (stratified)\n",
    "X_train1, X_test1, y_train1, y_test1 = train_test_split(other_features_scaled, target_other, test_size=0.2, \n",
    "                                                        random_state=42)\n",
    "\n",
    "X_train=np.concatenate((X_train1,sam_train_features_scaled,mam_train_features_scaled), axis=0)\n",
    "y_train=np.concatenate((y_train1,target_sam_train,target_mam_train), axis=0)\n",
    "\n",
    "X_test=np.concatenate((X_test1,sam_validation_features_scaled,mam_validation_features_scaled), axis=0)\n",
    "y_test=np.concatenate((y_test1,target_sam_validation, target_mam_validation), axis=0)"
   ]
  },
  {
   "cell_type": "code",
   "execution_count": 23,
   "metadata": {},
   "outputs": [
    {
     "name": "stdout",
     "output_type": "stream",
     "text": [
      "(3353, 2050)\n",
      "(838, 2050)\n"
     ]
    }
   ],
   "source": [
    "print(X_train.shape)\n",
    "print(X_test.shape)"
   ]
  },
  {
   "cell_type": "code",
   "execution_count": 41,
   "metadata": {},
   "outputs": [],
   "source": [
    "early_stop = EarlyStopping(monitor='val_loss', patience=5)\n",
    "checkpoint = ModelCheckpoint('regression_model_resnetfeats_128_32(dropout05_upsampled2x)_leakyrelu.h5', monitor='val_loss', verbose=1,\n",
    "                             save_best_only=True,save_weights_only=False, mode='min')"
   ]
  },
  {
   "cell_type": "code",
   "execution_count": 42,
   "metadata": {},
   "outputs": [
    {
     "name": "stdout",
     "output_type": "stream",
     "text": [
      "Train on 3302 samples, validate on 833 samples\n",
      "Epoch 1/1000\n",
      "3302/3302 [==============================] - 1s 233us/step - loss: 7.7923 - acc: 6.0569e-04 - val_loss: 3.3519 - val_acc: 0.0024\n",
      "\n",
      "Epoch 00001: val_loss improved from inf to 3.35193, saving model to regression_model_resnetfeats_128_32(dropout05_upsampled2x)_leakyrelu.h5\n",
      "Epoch 2/1000\n",
      "3302/3302 [==============================] - 0s 49us/step - loss: 5.7854 - acc: 0.0015 - val_loss: 2.4470 - val_acc: 0.0024\n",
      "\n",
      "Epoch 00002: val_loss improved from 3.35193 to 2.44699, saving model to regression_model_resnetfeats_128_32(dropout05_upsampled2x)_leakyrelu.h5\n",
      "Epoch 3/1000\n",
      "3302/3302 [==============================] - 0s 46us/step - loss: 5.1853 - acc: 9.0854e-04 - val_loss: 2.1136 - val_acc: 0.0012\n",
      "\n",
      "Epoch 00003: val_loss improved from 2.44699 to 2.11361, saving model to regression_model_resnetfeats_128_32(dropout05_upsampled2x)_leakyrelu.h5\n",
      "Epoch 4/1000\n",
      "3302/3302 [==============================] - 0s 46us/step - loss: 4.6380 - acc: 6.0569e-04 - val_loss: 1.9676 - val_acc: 0.0012\n",
      "\n",
      "Epoch 00004: val_loss improved from 2.11361 to 1.96764, saving model to regression_model_resnetfeats_128_32(dropout05_upsampled2x)_leakyrelu.h5\n",
      "Epoch 5/1000\n",
      "3302/3302 [==============================] - 0s 48us/step - loss: 3.9993 - acc: 3.0285e-04 - val_loss: 1.8608 - val_acc: 0.0012\n",
      "\n",
      "Epoch 00005: val_loss improved from 1.96764 to 1.86076, saving model to regression_model_resnetfeats_128_32(dropout05_upsampled2x)_leakyrelu.h5\n",
      "Epoch 6/1000\n",
      "3302/3302 [==============================] - 0s 49us/step - loss: 3.4957 - acc: 0.0012 - val_loss: 1.8109 - val_acc: 0.0012\n",
      "\n",
      "Epoch 00006: val_loss improved from 1.86076 to 1.81086, saving model to regression_model_resnetfeats_128_32(dropout05_upsampled2x)_leakyrelu.h5\n",
      "Epoch 7/1000\n",
      "3302/3302 [==============================] - 0s 47us/step - loss: 3.4212 - acc: 0.0000e+00 - val_loss: 1.7790 - val_acc: 0.0012\n",
      "\n",
      "Epoch 00007: val_loss improved from 1.81086 to 1.77898, saving model to regression_model_resnetfeats_128_32(dropout05_upsampled2x)_leakyrelu.h5\n",
      "Epoch 8/1000\n",
      "3302/3302 [==============================] - 0s 47us/step - loss: 3.3852 - acc: 9.0854e-04 - val_loss: 1.7303 - val_acc: 0.0012\n",
      "\n",
      "Epoch 00008: val_loss improved from 1.77898 to 1.73034, saving model to regression_model_resnetfeats_128_32(dropout05_upsampled2x)_leakyrelu.h5\n",
      "Epoch 9/1000\n",
      "3302/3302 [==============================] - 0s 56us/step - loss: 3.0526 - acc: 0.0018 - val_loss: 1.7088 - val_acc: 0.0012\n",
      "\n",
      "Epoch 00009: val_loss improved from 1.73034 to 1.70884, saving model to regression_model_resnetfeats_128_32(dropout05_upsampled2x)_leakyrelu.h5\n",
      "Epoch 10/1000\n",
      "3302/3302 [==============================] - 0s 55us/step - loss: 3.0978 - acc: 0.0018 - val_loss: 1.6956 - val_acc: 0.0012\n",
      "\n",
      "Epoch 00010: val_loss improved from 1.70884 to 1.69564, saving model to regression_model_resnetfeats_128_32(dropout05_upsampled2x)_leakyrelu.h5\n",
      "Epoch 11/1000\n",
      "3302/3302 [==============================] - 0s 52us/step - loss: 2.8939 - acc: 0.0012 - val_loss: 1.6929 - val_acc: 0.0012\n",
      "\n",
      "Epoch 00011: val_loss improved from 1.69564 to 1.69287, saving model to regression_model_resnetfeats_128_32(dropout05_upsampled2x)_leakyrelu.h5\n",
      "Epoch 12/1000\n",
      "3302/3302 [==============================] - 0s 50us/step - loss: 2.8293 - acc: 0.0015 - val_loss: 1.6831 - val_acc: 0.0012\n",
      "\n",
      "Epoch 00012: val_loss improved from 1.69287 to 1.68314, saving model to regression_model_resnetfeats_128_32(dropout05_upsampled2x)_leakyrelu.h5\n",
      "Epoch 13/1000\n",
      "3302/3302 [==============================] - 0s 50us/step - loss: 2.7110 - acc: 0.0015 - val_loss: 1.6668 - val_acc: 0.0012\n",
      "\n",
      "Epoch 00013: val_loss improved from 1.68314 to 1.66682, saving model to regression_model_resnetfeats_128_32(dropout05_upsampled2x)_leakyrelu.h5\n",
      "Epoch 14/1000\n",
      "3302/3302 [==============================] - 0s 49us/step - loss: 2.6829 - acc: 0.0015 - val_loss: 1.6640 - val_acc: 0.0024\n",
      "\n",
      "Epoch 00014: val_loss improved from 1.66682 to 1.66399, saving model to regression_model_resnetfeats_128_32(dropout05_upsampled2x)_leakyrelu.h5\n",
      "Epoch 15/1000\n",
      "3302/3302 [==============================] - 0s 48us/step - loss: 2.5992 - acc: 9.0854e-04 - val_loss: 1.6511 - val_acc: 0.0012\n",
      "\n",
      "Epoch 00015: val_loss improved from 1.66399 to 1.65112, saving model to regression_model_resnetfeats_128_32(dropout05_upsampled2x)_leakyrelu.h5\n",
      "Epoch 16/1000\n",
      "3302/3302 [==============================] - 0s 47us/step - loss: 2.5361 - acc: 0.0015 - val_loss: 1.6381 - val_acc: 0.0012\n",
      "\n",
      "Epoch 00016: val_loss improved from 1.65112 to 1.63814, saving model to regression_model_resnetfeats_128_32(dropout05_upsampled2x)_leakyrelu.h5\n",
      "Epoch 17/1000\n",
      "3302/3302 [==============================] - 0s 45us/step - loss: 2.5122 - acc: 0.0015 - val_loss: 1.6209 - val_acc: 0.0012\n",
      "\n",
      "Epoch 00017: val_loss improved from 1.63814 to 1.62093, saving model to regression_model_resnetfeats_128_32(dropout05_upsampled2x)_leakyrelu.h5\n",
      "Epoch 18/1000\n",
      "3302/3302 [==============================] - 0s 46us/step - loss: 2.5733 - acc: 0.0018 - val_loss: 1.6115 - val_acc: 0.0012\n",
      "\n",
      "Epoch 00018: val_loss improved from 1.62093 to 1.61148, saving model to regression_model_resnetfeats_128_32(dropout05_upsampled2x)_leakyrelu.h5\n",
      "Epoch 19/1000\n",
      "3302/3302 [==============================] - 0s 48us/step - loss: 2.4111 - acc: 0.0015 - val_loss: 1.6040 - val_acc: 0.0012\n",
      "\n",
      "Epoch 00019: val_loss improved from 1.61148 to 1.60396, saving model to regression_model_resnetfeats_128_32(dropout05_upsampled2x)_leakyrelu.h5\n",
      "Epoch 20/1000\n",
      "3302/3302 [==============================] - 0s 46us/step - loss: 2.2829 - acc: 0.0021 - val_loss: 1.6003 - val_acc: 0.0012\n",
      "\n",
      "Epoch 00020: val_loss improved from 1.60396 to 1.60030, saving model to regression_model_resnetfeats_128_32(dropout05_upsampled2x)_leakyrelu.h5\n",
      "Epoch 21/1000\n",
      "3302/3302 [==============================] - 0s 46us/step - loss: 2.3255 - acc: 9.0854e-04 - val_loss: 1.5997 - val_acc: 0.0012\n",
      "\n",
      "Epoch 00021: val_loss improved from 1.60030 to 1.59973, saving model to regression_model_resnetfeats_128_32(dropout05_upsampled2x)_leakyrelu.h5\n",
      "Epoch 22/1000\n",
      "3302/3302 [==============================] - 0s 46us/step - loss: 2.3447 - acc: 9.0854e-04 - val_loss: 1.5962 - val_acc: 0.0012\n",
      "\n",
      "Epoch 00022: val_loss improved from 1.59973 to 1.59621, saving model to regression_model_resnetfeats_128_32(dropout05_upsampled2x)_leakyrelu.h5\n",
      "Epoch 23/1000\n",
      "3302/3302 [==============================] - 0s 48us/step - loss: 2.1977 - acc: 0.0018 - val_loss: 1.5943 - val_acc: 0.0012\n",
      "\n",
      "Epoch 00023: val_loss improved from 1.59621 to 1.59428, saving model to regression_model_resnetfeats_128_32(dropout05_upsampled2x)_leakyrelu.h5\n",
      "Epoch 24/1000\n",
      "3302/3302 [==============================] - 0s 46us/step - loss: 2.2642 - acc: 0.0015 - val_loss: 1.5901 - val_acc: 0.0012\n",
      "\n",
      "Epoch 00024: val_loss improved from 1.59428 to 1.59013, saving model to regression_model_resnetfeats_128_32(dropout05_upsampled2x)_leakyrelu.h5\n",
      "Epoch 25/1000\n",
      "3302/3302 [==============================] - 0s 48us/step - loss: 2.1799 - acc: 0.0015 - val_loss: 1.5827 - val_acc: 0.0012\n",
      "\n",
      "Epoch 00025: val_loss improved from 1.59013 to 1.58270, saving model to regression_model_resnetfeats_128_32(dropout05_upsampled2x)_leakyrelu.h5\n",
      "Epoch 26/1000\n",
      "3302/3302 [==============================] - 0s 49us/step - loss: 2.1324 - acc: 0.0015 - val_loss: 1.5805 - val_acc: 0.0012\n",
      "\n",
      "Epoch 00026: val_loss improved from 1.58270 to 1.58048, saving model to regression_model_resnetfeats_128_32(dropout05_upsampled2x)_leakyrelu.h5\n",
      "Epoch 27/1000\n",
      "3302/3302 [==============================] - 0s 48us/step - loss: 2.1233 - acc: 0.0012 - val_loss: 1.5723 - val_acc: 0.0012\n",
      "\n",
      "Epoch 00027: val_loss improved from 1.58048 to 1.57235, saving model to regression_model_resnetfeats_128_32(dropout05_upsampled2x)_leakyrelu.h5\n",
      "Epoch 28/1000\n",
      "3302/3302 [==============================] - 0s 47us/step - loss: 2.1331 - acc: 0.0018 - val_loss: 1.5651 - val_acc: 0.0012\n",
      "\n",
      "Epoch 00028: val_loss improved from 1.57235 to 1.56509, saving model to regression_model_resnetfeats_128_32(dropout05_upsampled2x)_leakyrelu.h5\n",
      "Epoch 29/1000\n",
      "3302/3302 [==============================] - 0s 46us/step - loss: 2.1635 - acc: 0.0021 - val_loss: 1.5598 - val_acc: 0.0012\n",
      "\n",
      "Epoch 00029: val_loss improved from 1.56509 to 1.55976, saving model to regression_model_resnetfeats_128_32(dropout05_upsampled2x)_leakyrelu.h5\n"
     ]
    },
    {
     "name": "stdout",
     "output_type": "stream",
     "text": [
      "Epoch 30/1000\n",
      "3302/3302 [==============================] - 0s 45us/step - loss: 2.0265 - acc: 0.0012 - val_loss: 1.5645 - val_acc: 0.0012\n",
      "\n",
      "Epoch 00030: val_loss did not improve from 1.55976\n",
      "Epoch 31/1000\n",
      "3302/3302 [==============================] - 0s 50us/step - loss: 2.0280 - acc: 9.0854e-04 - val_loss: 1.5651 - val_acc: 0.0012\n",
      "\n",
      "Epoch 00031: val_loss did not improve from 1.55976\n",
      "Epoch 32/1000\n",
      "3302/3302 [==============================] - 0s 60us/step - loss: 2.0117 - acc: 6.0569e-04 - val_loss: 1.5650 - val_acc: 0.0012\n",
      "\n",
      "Epoch 00032: val_loss did not improve from 1.55976\n",
      "Epoch 33/1000\n",
      "3302/3302 [==============================] - 0s 55us/step - loss: 1.9467 - acc: 0.0012 - val_loss: 1.5678 - val_acc: 0.0012\n",
      "\n",
      "Epoch 00033: val_loss did not improve from 1.55976\n",
      "Epoch 34/1000\n",
      "3302/3302 [==============================] - 0s 51us/step - loss: 1.9161 - acc: 0.0015 - val_loss: 1.5652 - val_acc: 0.0012\n",
      "\n",
      "Epoch 00034: val_loss did not improve from 1.55976\n"
     ]
    },
    {
     "data": {
      "text/plain": [
       "<keras.callbacks.History at 0x7fb8e6beca20>"
      ]
     },
     "execution_count": 42,
     "metadata": {},
     "output_type": "execute_result"
    }
   ],
   "source": [
    "regression_model.fit(X_train,\n",
    "                y_train,\n",
    "                epochs=1000,\n",
    "                batch_size=512,\n",
    "                callbacks=[checkpoint, early_stop],\n",
    "                shuffle=True,\n",
    "                validation_data=(X_test, y_test),\n",
    "                verbose=1)"
   ]
  },
  {
   "cell_type": "markdown",
   "metadata": {},
   "source": [
    "# look at prediction vs actual values"
   ]
  },
  {
   "cell_type": "code",
   "execution_count": 35,
   "metadata": {},
   "outputs": [
    {
     "name": "stdout",
     "output_type": "stream",
     "text": [
      "833/833 [==============================] - 0s 190us/step\n"
     ]
    }
   ],
   "source": [
    "model2=load_model('regression_model_resnetfeats_128_32(dropout05_upsampled2x)_leakyrelu.h5')\n",
    "prediction=model2.predict(X_test, verbose=1)"
   ]
  },
  {
   "cell_type": "code",
   "execution_count": 36,
   "metadata": {},
   "outputs": [
    {
     "data": {
      "text/html": [
       "<div>\n",
       "<style scoped>\n",
       "    .dataframe tbody tr th:only-of-type {\n",
       "        vertical-align: middle;\n",
       "    }\n",
       "\n",
       "    .dataframe tbody tr th {\n",
       "        vertical-align: top;\n",
       "    }\n",
       "\n",
       "    .dataframe thead th {\n",
       "        text-align: right;\n",
       "    }\n",
       "</style>\n",
       "<table border=\"1\" class=\"dataframe\">\n",
       "  <thead>\n",
       "    <tr style=\"text-align: right;\">\n",
       "      <th></th>\n",
       "      <th>wfh_prediction</th>\n",
       "      <th>y_test_val</th>\n",
       "    </tr>\n",
       "  </thead>\n",
       "  <tbody>\n",
       "    <tr>\n",
       "      <th>0</th>\n",
       "      <td>-2.144780</td>\n",
       "      <td>-0.34</td>\n",
       "    </tr>\n",
       "    <tr>\n",
       "      <th>1</th>\n",
       "      <td>-1.431125</td>\n",
       "      <td>-1.27</td>\n",
       "    </tr>\n",
       "    <tr>\n",
       "      <th>2</th>\n",
       "      <td>-0.656834</td>\n",
       "      <td>-0.64</td>\n",
       "    </tr>\n",
       "    <tr>\n",
       "      <th>3</th>\n",
       "      <td>-0.858962</td>\n",
       "      <td>-1.65</td>\n",
       "    </tr>\n",
       "    <tr>\n",
       "      <th>4</th>\n",
       "      <td>-0.699172</td>\n",
       "      <td>-1.14</td>\n",
       "    </tr>\n",
       "  </tbody>\n",
       "</table>\n",
       "</div>"
      ],
      "text/plain": [
       "   wfh_prediction  y_test_val\n",
       "0       -2.144780       -0.34\n",
       "1       -1.431125       -1.27\n",
       "2       -0.656834       -0.64\n",
       "3       -0.858962       -1.65\n",
       "4       -0.699172       -1.14"
      ]
     },
     "execution_count": 36,
     "metadata": {},
     "output_type": "execute_result"
    }
   ],
   "source": [
    "### optional, save prediction,  and wfh target\n",
    "eval_df=pd.DataFrame({'wfh_prediction':prediction.flatten(), 'y_test_val':y_test.flatten()})\n",
    "eval_df.head()"
   ]
  },
  {
   "cell_type": "code",
   "execution_count": 37,
   "metadata": {},
   "outputs": [
    {
     "data": {
      "text/plain": [
       "0.10189353244532774"
      ]
     },
     "execution_count": 37,
     "metadata": {},
     "output_type": "execute_result"
    }
   ],
   "source": [
    "from scipy import stats\n",
    "def r2(x, y):\n",
    "    return stats.pearsonr(x, y)[0]**2 \n",
    "\n",
    "r2(eval_df['y_test_val'], eval_df['wfh_prediction'])"
   ]
  },
  {
   "cell_type": "code",
   "execution_count": 38,
   "metadata": {},
   "outputs": [
    {
     "data": {
      "text/plain": [
       "0.31920766351284197"
      ]
     },
     "execution_count": 38,
     "metadata": {},
     "output_type": "execute_result"
    }
   ],
   "source": [
    "np.sqrt(r2(eval_df['y_test_val'], eval_df['wfh_prediction']))"
   ]
  },
  {
   "cell_type": "code",
   "execution_count": 39,
   "metadata": {},
   "outputs": [
    {
     "data": {
      "text/plain": [
       "<matplotlib.axes._subplots.AxesSubplot at 0x7fb8e6cdbac8>"
      ]
     },
     "execution_count": 39,
     "metadata": {},
     "output_type": "execute_result"
    },
    {
     "data": {
      "image/png": "[encoded data removed]",
      "text/plain": [
       "<Figure size 432x288 with 1 Axes>"
      ]
     },
     "metadata": {},
     "output_type": "display_data"
    }
   ],
   "source": [
    "sns.set_style(\"darkgrid\")\n",
    "sns.regplot(x='wfh_prediction', y='y_test_val',data=eval_df, scatter_kws={'alpha':0.3})"
   ]
  },
  {
   "cell_type": "code",
   "execution_count": null,
   "metadata": {},
   "outputs": [],
   "source": []
  }
 ],
 "metadata": {
  "kernelspec": {
   "display_name": "Python 3",
   "language": "python",
   "name": "python3"
  },
  "language_info": {
   "codemirror_mode": {
    "name": "ipython",
    "version": 3
   },
   "file_extension": ".py",
   "mimetype": "text/x-python",
   "name": "python",
   "nbconvert_exporter": "python",
   "pygments_lexer": "ipython3",
   "version": "3.5.2"
  }
 },
 "nbformat": 4,
 "nbformat_minor": 2
}
