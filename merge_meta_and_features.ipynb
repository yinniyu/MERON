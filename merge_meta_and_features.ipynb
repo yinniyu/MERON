{
 "cells": [
  {
   "cell_type": "markdown",
   "metadata": {},
   "source": [
    "# This notebook goes over the merging of meta-data and features\n",
    "\n",
    "We associate the extracted CNN features (explanitory vars) with the growth indicators (response var)"
   ]
  },
  {
   "cell_type": "code",
   "execution_count": 29,
   "metadata": {},
   "outputs": [],
   "source": [
    "import os\n",
    "import numpy as np\n",
    "import pandas as pd\n",
    "import seaborn as sns\n",
    "import matplotlib.pyplot as plt\n",
    "%matplotlib inline\n",
    "sns.set_style(\"darkgrid\")\n",
    "import glob"
   ]
  },
  {
   "cell_type": "markdown",
   "metadata": {},
   "source": [
    "# Files and directories"
   ]
  },
  {
   "cell_type": "code",
   "execution_count": 37,
   "metadata": {},
   "outputs": [],
   "source": [
    "meta_data_file = '/data/meron/kenya_data/meron_meta_processed.csv'\n",
    "#features_dir = '/data/meron/features_resnet_augmented/sam_upsampled'\n",
    "hist_fig = '/data/meron/figs/wfh_dist_smart.jpg'\n",
    "mclass_fig = '/data/meron/figs/malcls_dist_smart.jpg'\n",
    "encoder_file='/data/meron/smart_features_encoder/smart_encoder_features.csv'\n"
   ]
  },
  {
   "cell_type": "code",
   "execution_count": 38,
   "metadata": {},
   "outputs": [
    {
     "data": {
      "text/plain": [
       "['/data/meron/features_resnet_augmented/sam_mam_upsampled/features_4.csv',\n",
       " '/data/meron/features_resnet_augmented/sam_mam_upsampled/features_3.csv',\n",
       " '/data/meron/features_resnet_augmented/sam_mam_upsampled/features_2.csv',\n",
       " '/data/meron/features_resnet_augmented/sam_mam_upsampled/features_1.csv',\n",
       " '/data/meron/features_resnet_augmented/sam_mam_upsampled/features_0.csv']"
      ]
     },
     "execution_count": 38,
     "metadata": {},
     "output_type": "execute_result"
    }
   ],
   "source": [
    "feature_files= glob.glob('/data/meron/features_resnet_augmented/sam_mam_upsampled/*.csv')\n",
    "feature_files"
   ]
  },
  {
   "cell_type": "code",
   "execution_count": 39,
   "metadata": {},
   "outputs": [
    {
     "name": "stdout",
     "output_type": "stream",
     "text": [
      "/data/meron/features_resnet_augmented/sam_mam_upsampled/features_4.csv loaded\n",
      "/data/meron/features_resnet_augmented/sam_mam_upsampled/features_3.csv loaded\n",
      "/data/meron/features_resnet_augmented/sam_mam_upsampled/features_2.csv loaded\n",
      "/data/meron/features_resnet_augmented/sam_mam_upsampled/features_1.csv loaded\n",
      "/data/meron/features_resnet_augmented/sam_mam_upsampled/features_0.csv loaded\n"
     ]
    }
   ],
   "source": [
    "meta_data = pd.read_csv(meta_data_file)\n",
    "\n",
    "features = pd.DataFrame()\n",
    "for f in feature_files:\n",
    "    df = pd.read_csv(f)\n",
    "    features = pd.concat([features, df], axis=0)\n",
    "    print(f + ' loaded')"
   ]
  },
  {
   "cell_type": "code",
   "execution_count": 33,
   "metadata": {},
   "outputs": [
    {
     "data": {
      "text/html": [
       "<div>\n",
       "<style scoped>\n",
       "    .dataframe tbody tr th:only-of-type {\n",
       "        vertical-align: middle;\n",
       "    }\n",
       "\n",
       "    .dataframe tbody tr th {\n",
       "        vertical-align: top;\n",
       "    }\n",
       "\n",
       "    .dataframe thead th {\n",
       "        text-align: right;\n",
       "    }\n",
       "</style>\n",
       "<table border=\"1\" class=\"dataframe\">\n",
       "  <thead>\n",
       "    <tr style=\"text-align: right;\">\n",
       "      <th></th>\n",
       "      <th>photo_id</th>\n",
       "      <th>0</th>\n",
       "      <th>1</th>\n",
       "      <th>2</th>\n",
       "      <th>3</th>\n",
       "      <th>4</th>\n",
       "      <th>5</th>\n",
       "      <th>6</th>\n",
       "      <th>7</th>\n",
       "      <th>8</th>\n",
       "      <th>...</th>\n",
       "      <th>2038</th>\n",
       "      <th>2039</th>\n",
       "      <th>2040</th>\n",
       "      <th>2041</th>\n",
       "      <th>2042</th>\n",
       "      <th>2043</th>\n",
       "      <th>2044</th>\n",
       "      <th>2045</th>\n",
       "      <th>2046</th>\n",
       "      <th>2047</th>\n",
       "    </tr>\n",
       "  </thead>\n",
       "  <tbody>\n",
       "    <tr>\n",
       "      <th>0</th>\n",
       "      <td>1517384891739_flip.jpg</td>\n",
       "      <td>0.157335</td>\n",
       "      <td>0.015997</td>\n",
       "      <td>0.707683</td>\n",
       "      <td>0.009274</td>\n",
       "      <td>0.000000</td>\n",
       "      <td>0.698504</td>\n",
       "      <td>1.974866</td>\n",
       "      <td>6.329210</td>\n",
       "      <td>0.000000</td>\n",
       "      <td>...</td>\n",
       "      <td>0.235419</td>\n",
       "      <td>0.585367</td>\n",
       "      <td>0.553431</td>\n",
       "      <td>0.0</td>\n",
       "      <td>0.260236</td>\n",
       "      <td>2.768777</td>\n",
       "      <td>0.664274</td>\n",
       "      <td>0.030266</td>\n",
       "      <td>1.867831</td>\n",
       "      <td>0.024899</td>\n",
       "    </tr>\n",
       "    <tr>\n",
       "      <th>1</th>\n",
       "      <td>1517396465707.jpg</td>\n",
       "      <td>0.000000</td>\n",
       "      <td>2.344903</td>\n",
       "      <td>0.200998</td>\n",
       "      <td>0.323836</td>\n",
       "      <td>2.933506</td>\n",
       "      <td>2.859201</td>\n",
       "      <td>2.615635</td>\n",
       "      <td>9.010788</td>\n",
       "      <td>0.338610</td>\n",
       "      <td>...</td>\n",
       "      <td>0.000000</td>\n",
       "      <td>2.795960</td>\n",
       "      <td>1.454802</td>\n",
       "      <td>0.0</td>\n",
       "      <td>0.000000</td>\n",
       "      <td>2.222442</td>\n",
       "      <td>0.000000</td>\n",
       "      <td>0.000000</td>\n",
       "      <td>0.290227</td>\n",
       "      <td>0.000000</td>\n",
       "    </tr>\n",
       "    <tr>\n",
       "      <th>2</th>\n",
       "      <td>1517478268776.jpg</td>\n",
       "      <td>0.045922</td>\n",
       "      <td>0.000000</td>\n",
       "      <td>3.087823</td>\n",
       "      <td>0.000000</td>\n",
       "      <td>0.331306</td>\n",
       "      <td>1.069497</td>\n",
       "      <td>1.636940</td>\n",
       "      <td>1.760356</td>\n",
       "      <td>0.000000</td>\n",
       "      <td>...</td>\n",
       "      <td>0.243376</td>\n",
       "      <td>0.129418</td>\n",
       "      <td>0.409441</td>\n",
       "      <td>0.0</td>\n",
       "      <td>0.000000</td>\n",
       "      <td>3.223908</td>\n",
       "      <td>0.000000</td>\n",
       "      <td>0.000000</td>\n",
       "      <td>4.154829</td>\n",
       "      <td>0.812403</td>\n",
       "    </tr>\n",
       "    <tr>\n",
       "      <th>3</th>\n",
       "      <td>1517303513931.jpg</td>\n",
       "      <td>0.000000</td>\n",
       "      <td>2.610384</td>\n",
       "      <td>1.328003</td>\n",
       "      <td>1.401934</td>\n",
       "      <td>0.887466</td>\n",
       "      <td>0.000000</td>\n",
       "      <td>2.456745</td>\n",
       "      <td>13.258943</td>\n",
       "      <td>3.503489</td>\n",
       "      <td>...</td>\n",
       "      <td>0.000000</td>\n",
       "      <td>0.508812</td>\n",
       "      <td>2.134569</td>\n",
       "      <td>0.0</td>\n",
       "      <td>0.000000</td>\n",
       "      <td>5.748155</td>\n",
       "      <td>0.155644</td>\n",
       "      <td>4.078206</td>\n",
       "      <td>2.158419</td>\n",
       "      <td>0.006808</td>\n",
       "    </tr>\n",
       "    <tr>\n",
       "      <th>4</th>\n",
       "      <td>1517238175403.jpg</td>\n",
       "      <td>0.000000</td>\n",
       "      <td>0.369026</td>\n",
       "      <td>2.461378</td>\n",
       "      <td>2.946527</td>\n",
       "      <td>0.661946</td>\n",
       "      <td>4.072535</td>\n",
       "      <td>0.526728</td>\n",
       "      <td>6.682256</td>\n",
       "      <td>0.000000</td>\n",
       "      <td>...</td>\n",
       "      <td>1.308302</td>\n",
       "      <td>0.031628</td>\n",
       "      <td>0.687893</td>\n",
       "      <td>0.0</td>\n",
       "      <td>0.000000</td>\n",
       "      <td>1.743518</td>\n",
       "      <td>0.575827</td>\n",
       "      <td>0.000000</td>\n",
       "      <td>2.062518</td>\n",
       "      <td>0.352439</td>\n",
       "    </tr>\n",
       "  </tbody>\n",
       "</table>\n",
       "<p>5 rows × 2049 columns</p>\n",
       "</div>"
      ],
      "text/plain": [
       "                 photo_id         0         1         2         3         4  \\\n",
       "0  1517384891739_flip.jpg  0.157335  0.015997  0.707683  0.009274  0.000000   \n",
       "1       1517396465707.jpg  0.000000  2.344903  0.200998  0.323836  2.933506   \n",
       "2       1517478268776.jpg  0.045922  0.000000  3.087823  0.000000  0.331306   \n",
       "3       1517303513931.jpg  0.000000  2.610384  1.328003  1.401934  0.887466   \n",
       "4       1517238175403.jpg  0.000000  0.369026  2.461378  2.946527  0.661946   \n",
       "\n",
       "          5         6          7         8    ...         2038      2039  \\\n",
       "0  0.698504  1.974866   6.329210  0.000000    ...     0.235419  0.585367   \n",
       "1  2.859201  2.615635   9.010788  0.338610    ...     0.000000  2.795960   \n",
       "2  1.069497  1.636940   1.760356  0.000000    ...     0.243376  0.129418   \n",
       "3  0.000000  2.456745  13.258943  3.503489    ...     0.000000  0.508812   \n",
       "4  4.072535  0.526728   6.682256  0.000000    ...     1.308302  0.031628   \n",
       "\n",
       "       2040  2041      2042      2043      2044      2045      2046      2047  \n",
       "0  0.553431   0.0  0.260236  2.768777  0.664274  0.030266  1.867831  0.024899  \n",
       "1  1.454802   0.0  0.000000  2.222442  0.000000  0.000000  0.290227  0.000000  \n",
       "2  0.409441   0.0  0.000000  3.223908  0.000000  0.000000  4.154829  0.812403  \n",
       "3  2.134569   0.0  0.000000  5.748155  0.155644  4.078206  2.158419  0.006808  \n",
       "4  0.687893   0.0  0.000000  1.743518  0.575827  0.000000  2.062518  0.352439  \n",
       "\n",
       "[5 rows x 2049 columns]"
      ]
     },
     "execution_count": 33,
     "metadata": {},
     "output_type": "execute_result"
    }
   ],
   "source": [
    "features.head()"
   ]
  },
  {
   "cell_type": "code",
   "execution_count": 34,
   "metadata": {},
   "outputs": [
    {
     "data": {
      "text/html": [
       "<div>\n",
       "<style scoped>\n",
       "    .dataframe tbody tr th:only-of-type {\n",
       "        vertical-align: middle;\n",
       "    }\n",
       "\n",
       "    .dataframe tbody tr th {\n",
       "        vertical-align: top;\n",
       "    }\n",
       "\n",
       "    .dataframe thead th {\n",
       "        text-align: right;\n",
       "    }\n",
       "</style>\n",
       "<table border=\"1\" class=\"dataframe\">\n",
       "  <thead>\n",
       "    <tr style=\"text-align: right;\">\n",
       "      <th></th>\n",
       "      <th>age_months</th>\n",
       "      <th>ena_plausibility_check</th>\n",
       "      <th>gender</th>\n",
       "      <th>height_cm</th>\n",
       "      <th>muac_cm</th>\n",
       "      <th>name_meron</th>\n",
       "      <th>name_smart</th>\n",
       "      <th>photo_id</th>\n",
       "      <th>weight_kg</th>\n",
       "      <th>wfh</th>\n",
       "      <th>hfa</th>\n",
       "      <th>wfa</th>\n",
       "      <th>maln_class</th>\n",
       "      <th>gender_male</th>\n",
       "      <th>maln_mam</th>\n",
       "      <th>maln_normal</th>\n",
       "      <th>maln_sam</th>\n",
       "    </tr>\n",
       "  </thead>\n",
       "  <tbody>\n",
       "    <tr>\n",
       "      <th>0</th>\n",
       "      <td>7.0</td>\n",
       "      <td>1.0</td>\n",
       "      <td>Male</td>\n",
       "      <td>71.4</td>\n",
       "      <td>14.5</td>\n",
       "      <td>Benson kagua</td>\n",
       "      <td>benson kagua</td>\n",
       "      <td>1518166907643.jpg</td>\n",
       "      <td>9.3</td>\n",
       "      <td>0.72</td>\n",
       "      <td>1.03</td>\n",
       "      <td>1.05</td>\n",
       "      <td>normal</td>\n",
       "      <td>1</td>\n",
       "      <td>0</td>\n",
       "      <td>1</td>\n",
       "      <td>0</td>\n",
       "    </tr>\n",
       "    <tr>\n",
       "      <th>1</th>\n",
       "      <td>16.0</td>\n",
       "      <td>1.0</td>\n",
       "      <td>Female</td>\n",
       "      <td>80.0</td>\n",
       "      <td>15.3</td>\n",
       "      <td>Daisy linn</td>\n",
       "      <td>daisy line</td>\n",
       "      <td>1518169210738.jpg</td>\n",
       "      <td>10.3</td>\n",
       "      <td>0.23</td>\n",
       "      <td>0.50</td>\n",
       "      <td>0.39</td>\n",
       "      <td>normal</td>\n",
       "      <td>0</td>\n",
       "      <td>0</td>\n",
       "      <td>1</td>\n",
       "      <td>0</td>\n",
       "    </tr>\n",
       "    <tr>\n",
       "      <th>2</th>\n",
       "      <td>12.0</td>\n",
       "      <td>1.0</td>\n",
       "      <td>Female</td>\n",
       "      <td>74.5</td>\n",
       "      <td>15.8</td>\n",
       "      <td>Trace</td>\n",
       "      <td>tracy mwendwa</td>\n",
       "      <td>1518169594179.jpg</td>\n",
       "      <td>9.8</td>\n",
       "      <td>0.86</td>\n",
       "      <td>0.19</td>\n",
       "      <td>0.73</td>\n",
       "      <td>normal</td>\n",
       "      <td>0</td>\n",
       "      <td>0</td>\n",
       "      <td>1</td>\n",
       "      <td>0</td>\n",
       "    </tr>\n",
       "    <tr>\n",
       "      <th>3</th>\n",
       "      <td>35.0</td>\n",
       "      <td>1.0</td>\n",
       "      <td>Female</td>\n",
       "      <td>89.4</td>\n",
       "      <td>15.8</td>\n",
       "      <td>Mariam</td>\n",
       "      <td>marian rajab</td>\n",
       "      <td>1518175903405.jpg</td>\n",
       "      <td>12.8</td>\n",
       "      <td>0.25</td>\n",
       "      <td>-1.32</td>\n",
       "      <td>-0.51</td>\n",
       "      <td>normal</td>\n",
       "      <td>0</td>\n",
       "      <td>0</td>\n",
       "      <td>1</td>\n",
       "      <td>0</td>\n",
       "    </tr>\n",
       "    <tr>\n",
       "      <th>4</th>\n",
       "      <td>35.0</td>\n",
       "      <td>1.0</td>\n",
       "      <td>Male</td>\n",
       "      <td>94.1</td>\n",
       "      <td>14.5</td>\n",
       "      <td>Leilan learpanae</td>\n",
       "      <td>leiyan larpanai</td>\n",
       "      <td>1518247639265.jpg</td>\n",
       "      <td>12.3</td>\n",
       "      <td>-1.48</td>\n",
       "      <td>-0.36</td>\n",
       "      <td>-1.18</td>\n",
       "      <td>normal</td>\n",
       "      <td>1</td>\n",
       "      <td>0</td>\n",
       "      <td>1</td>\n",
       "      <td>0</td>\n",
       "    </tr>\n",
       "  </tbody>\n",
       "</table>\n",
       "</div>"
      ],
      "text/plain": [
       "   age_months  ena_plausibility_check  gender  height_cm  muac_cm  \\\n",
       "0         7.0                     1.0    Male       71.4     14.5   \n",
       "1        16.0                     1.0  Female       80.0     15.3   \n",
       "2        12.0                     1.0  Female       74.5     15.8   \n",
       "3        35.0                     1.0  Female       89.4     15.8   \n",
       "4        35.0                     1.0    Male       94.1     14.5   \n",
       "\n",
       "         name_meron       name_smart           photo_id  weight_kg   wfh  \\\n",
       "0      Benson kagua     benson kagua  1518166907643.jpg        9.3  0.72   \n",
       "1        Daisy linn       daisy line  1518169210738.jpg       10.3  0.23   \n",
       "2             Trace    tracy mwendwa  1518169594179.jpg        9.8  0.86   \n",
       "3           Mariam      marian rajab  1518175903405.jpg       12.8  0.25   \n",
       "4  Leilan learpanae  leiyan larpanai  1518247639265.jpg       12.3 -1.48   \n",
       "\n",
       "    hfa   wfa maln_class  gender_male  maln_mam  maln_normal  maln_sam  \n",
       "0  1.03  1.05     normal            1         0            1         0  \n",
       "1  0.50  0.39     normal            0         0            1         0  \n",
       "2  0.19  0.73     normal            0         0            1         0  \n",
       "3 -1.32 -0.51     normal            0         0            1         0  \n",
       "4 -0.36 -1.18     normal            1         0            1         0  "
      ]
     },
     "execution_count": 34,
     "metadata": {},
     "output_type": "execute_result"
    }
   ],
   "source": [
    "meta_data.head()"
   ]
  },
  {
   "cell_type": "code",
   "execution_count": 70,
   "metadata": {},
   "outputs": [
    {
     "data": {
      "text/plain": [
       "0       NaN\n",
       "1       NaN\n",
       "2       NaN\n",
       "3       NaN\n",
       "4       NaN\n",
       "5       NaN\n",
       "6       NaN\n",
       "7       NaN\n",
       "8       NaN\n",
       "9       NaN\n",
       "10      NaN\n",
       "11      NaN\n",
       "12      NaN\n",
       "13      NaN\n",
       "14      NaN\n",
       "15      NaN\n",
       "16      NaN\n",
       "17      NaN\n",
       "18      NaN\n",
       "19      NaN\n",
       "20      NaN\n",
       "21      NaN\n",
       "22      NaN\n",
       "23      NaN\n",
       "24      NaN\n",
       "25      NaN\n",
       "26      NaN\n",
       "27      NaN\n",
       "28      NaN\n",
       "29      NaN\n",
       "       ... \n",
       "4392    NaN\n",
       "4393     am\n",
       "4394    NaN\n",
       "4395    NaN\n",
       "4396    NaN\n",
       "4397    NaN\n",
       "4398    NaN\n",
       "4399    NaN\n",
       "4400    NaN\n",
       "4401    NaN\n",
       "4402    NaN\n",
       "4403    NaN\n",
       "4404    NaN\n",
       "4405    NaN\n",
       "4406    NaN\n",
       "4407    NaN\n",
       "4408    NaN\n",
       "4409    NaN\n",
       "4410    NaN\n",
       "4411    NaN\n",
       "4412    NaN\n",
       "4413    NaN\n",
       "4414    NaN\n",
       "4415     am\n",
       "4416    NaN\n",
       "4417    NaN\n",
       "4418    NaN\n",
       "4419     am\n",
       "4420    NaN\n",
       "4421    NaN\n",
       "Name: maln_class, Length: 4422, dtype: object"
      ]
     },
     "execution_count": 70,
     "metadata": {},
     "output_type": "execute_result"
    }
   ],
   "source": [
    "#optional, change class to binary\n",
    "maln_dict={'sam':'am','mam':'am'}\n",
    "meta_data['maln_class'].map(maln_dict)"
   ]
  },
  {
   "cell_type": "code",
   "execution_count": 67,
   "metadata": {},
   "outputs": [
    {
     "data": {
      "text/plain": [
       "<map at 0x7f52d946df98>"
      ]
     },
     "execution_count": 67,
     "metadata": {},
     "output_type": "execute_result"
    }
   ],
   "source": [
    "g"
   ]
  },
  {
   "cell_type": "code",
   "execution_count": null,
   "metadata": {},
   "outputs": [],
   "source": []
  },
  {
   "cell_type": "code",
   "execution_count": 21,
   "metadata": {},
   "outputs": [],
   "source": [
    "#### for augmented and flipped images\n",
    "original_id=[]\n",
    "for row in features['photo_id']:\n",
    "    base_name=row.split('.')[0].split('_')[0]\n",
    "    modified_name=base_name+'.jpg'\n",
    "    original_id.append(modified_name)"
   ]
  },
  {
   "cell_type": "code",
   "execution_count": 6,
   "metadata": {},
   "outputs": [],
   "source": [
    "encoder_data=pd.read_csv(encoder_file)"
   ]
  },
  {
   "cell_type": "code",
   "execution_count": 22,
   "metadata": {},
   "outputs": [],
   "source": [
    "features['photo_id']=original_id"
   ]
  },
  {
   "cell_type": "code",
   "execution_count": 23,
   "metadata": {},
   "outputs": [
    {
     "data": {
      "text/html": [
       "<div>\n",
       "<style scoped>\n",
       "    .dataframe tbody tr th:only-of-type {\n",
       "        vertical-align: middle;\n",
       "    }\n",
       "\n",
       "    .dataframe tbody tr th {\n",
       "        vertical-align: top;\n",
       "    }\n",
       "\n",
       "    .dataframe thead th {\n",
       "        text-align: right;\n",
       "    }\n",
       "</style>\n",
       "<table border=\"1\" class=\"dataframe\">\n",
       "  <thead>\n",
       "    <tr style=\"text-align: right;\">\n",
       "      <th></th>\n",
       "      <th>photo_id</th>\n",
       "      <th>0</th>\n",
       "      <th>1</th>\n",
       "      <th>2</th>\n",
       "      <th>3</th>\n",
       "      <th>4</th>\n",
       "      <th>5</th>\n",
       "      <th>6</th>\n",
       "      <th>7</th>\n",
       "      <th>8</th>\n",
       "      <th>...</th>\n",
       "      <th>2038</th>\n",
       "      <th>2039</th>\n",
       "      <th>2040</th>\n",
       "      <th>2041</th>\n",
       "      <th>2042</th>\n",
       "      <th>2043</th>\n",
       "      <th>2044</th>\n",
       "      <th>2045</th>\n",
       "      <th>2046</th>\n",
       "      <th>2047</th>\n",
       "    </tr>\n",
       "  </thead>\n",
       "  <tbody>\n",
       "    <tr>\n",
       "      <th>0</th>\n",
       "      <td>1517384891739.jpg</td>\n",
       "      <td>0.157335</td>\n",
       "      <td>0.015997</td>\n",
       "      <td>0.707683</td>\n",
       "      <td>0.009274</td>\n",
       "      <td>0.000000</td>\n",
       "      <td>0.698504</td>\n",
       "      <td>1.974866</td>\n",
       "      <td>6.329210</td>\n",
       "      <td>0.000000</td>\n",
       "      <td>...</td>\n",
       "      <td>0.235419</td>\n",
       "      <td>0.585367</td>\n",
       "      <td>0.553431</td>\n",
       "      <td>0.0</td>\n",
       "      <td>0.260236</td>\n",
       "      <td>2.768777</td>\n",
       "      <td>0.664274</td>\n",
       "      <td>0.030266</td>\n",
       "      <td>1.867831</td>\n",
       "      <td>0.024899</td>\n",
       "    </tr>\n",
       "    <tr>\n",
       "      <th>1</th>\n",
       "      <td>1517396465707.jpg</td>\n",
       "      <td>0.000000</td>\n",
       "      <td>2.344903</td>\n",
       "      <td>0.200998</td>\n",
       "      <td>0.323836</td>\n",
       "      <td>2.933506</td>\n",
       "      <td>2.859201</td>\n",
       "      <td>2.615635</td>\n",
       "      <td>9.010788</td>\n",
       "      <td>0.338610</td>\n",
       "      <td>...</td>\n",
       "      <td>0.000000</td>\n",
       "      <td>2.795960</td>\n",
       "      <td>1.454802</td>\n",
       "      <td>0.0</td>\n",
       "      <td>0.000000</td>\n",
       "      <td>2.222442</td>\n",
       "      <td>0.000000</td>\n",
       "      <td>0.000000</td>\n",
       "      <td>0.290227</td>\n",
       "      <td>0.000000</td>\n",
       "    </tr>\n",
       "    <tr>\n",
       "      <th>2</th>\n",
       "      <td>1517478268776.jpg</td>\n",
       "      <td>0.045922</td>\n",
       "      <td>0.000000</td>\n",
       "      <td>3.087823</td>\n",
       "      <td>0.000000</td>\n",
       "      <td>0.331306</td>\n",
       "      <td>1.069497</td>\n",
       "      <td>1.636940</td>\n",
       "      <td>1.760356</td>\n",
       "      <td>0.000000</td>\n",
       "      <td>...</td>\n",
       "      <td>0.243376</td>\n",
       "      <td>0.129418</td>\n",
       "      <td>0.409441</td>\n",
       "      <td>0.0</td>\n",
       "      <td>0.000000</td>\n",
       "      <td>3.223908</td>\n",
       "      <td>0.000000</td>\n",
       "      <td>0.000000</td>\n",
       "      <td>4.154829</td>\n",
       "      <td>0.812403</td>\n",
       "    </tr>\n",
       "    <tr>\n",
       "      <th>3</th>\n",
       "      <td>1517303513931.jpg</td>\n",
       "      <td>0.000000</td>\n",
       "      <td>2.610384</td>\n",
       "      <td>1.328003</td>\n",
       "      <td>1.401934</td>\n",
       "      <td>0.887466</td>\n",
       "      <td>0.000000</td>\n",
       "      <td>2.456745</td>\n",
       "      <td>13.258943</td>\n",
       "      <td>3.503489</td>\n",
       "      <td>...</td>\n",
       "      <td>0.000000</td>\n",
       "      <td>0.508812</td>\n",
       "      <td>2.134569</td>\n",
       "      <td>0.0</td>\n",
       "      <td>0.000000</td>\n",
       "      <td>5.748155</td>\n",
       "      <td>0.155644</td>\n",
       "      <td>4.078206</td>\n",
       "      <td>2.158419</td>\n",
       "      <td>0.006808</td>\n",
       "    </tr>\n",
       "    <tr>\n",
       "      <th>4</th>\n",
       "      <td>1517238175403.jpg</td>\n",
       "      <td>0.000000</td>\n",
       "      <td>0.369026</td>\n",
       "      <td>2.461378</td>\n",
       "      <td>2.946527</td>\n",
       "      <td>0.661946</td>\n",
       "      <td>4.072535</td>\n",
       "      <td>0.526728</td>\n",
       "      <td>6.682256</td>\n",
       "      <td>0.000000</td>\n",
       "      <td>...</td>\n",
       "      <td>1.308302</td>\n",
       "      <td>0.031628</td>\n",
       "      <td>0.687893</td>\n",
       "      <td>0.0</td>\n",
       "      <td>0.000000</td>\n",
       "      <td>1.743518</td>\n",
       "      <td>0.575827</td>\n",
       "      <td>0.000000</td>\n",
       "      <td>2.062518</td>\n",
       "      <td>0.352439</td>\n",
       "    </tr>\n",
       "  </tbody>\n",
       "</table>\n",
       "<p>5 rows × 2049 columns</p>\n",
       "</div>"
      ],
      "text/plain": [
       "            photo_id         0         1         2         3         4  \\\n",
       "0  1517384891739.jpg  0.157335  0.015997  0.707683  0.009274  0.000000   \n",
       "1  1517396465707.jpg  0.000000  2.344903  0.200998  0.323836  2.933506   \n",
       "2  1517478268776.jpg  0.045922  0.000000  3.087823  0.000000  0.331306   \n",
       "3  1517303513931.jpg  0.000000  2.610384  1.328003  1.401934  0.887466   \n",
       "4  1517238175403.jpg  0.000000  0.369026  2.461378  2.946527  0.661946   \n",
       "\n",
       "          5         6          7         8    ...         2038      2039  \\\n",
       "0  0.698504  1.974866   6.329210  0.000000    ...     0.235419  0.585367   \n",
       "1  2.859201  2.615635   9.010788  0.338610    ...     0.000000  2.795960   \n",
       "2  1.069497  1.636940   1.760356  0.000000    ...     0.243376  0.129418   \n",
       "3  0.000000  2.456745  13.258943  3.503489    ...     0.000000  0.508812   \n",
       "4  4.072535  0.526728   6.682256  0.000000    ...     1.308302  0.031628   \n",
       "\n",
       "       2040  2041      2042      2043      2044      2045      2046      2047  \n",
       "0  0.553431   0.0  0.260236  2.768777  0.664274  0.030266  1.867831  0.024899  \n",
       "1  1.454802   0.0  0.000000  2.222442  0.000000  0.000000  0.290227  0.000000  \n",
       "2  0.409441   0.0  0.000000  3.223908  0.000000  0.000000  4.154829  0.812403  \n",
       "3  2.134569   0.0  0.000000  5.748155  0.155644  4.078206  2.158419  0.006808  \n",
       "4  0.687893   0.0  0.000000  1.743518  0.575827  0.000000  2.062518  0.352439  \n",
       "\n",
       "[5 rows x 2049 columns]"
      ]
     },
     "execution_count": 23,
     "metadata": {},
     "output_type": "execute_result"
    }
   ],
   "source": [
    "features.head()"
   ]
  },
  {
   "cell_type": "code",
   "execution_count": 24,
   "metadata": {},
   "outputs": [
    {
     "name": "stdout",
     "output_type": "stream",
     "text": [
      "size of meta data for smart dataset: (4422, 17)\n",
      "size of resnet features for smart dataset: (4430, 2049)\n",
      "size of encoder features for smart dataset: (3843, 129)\n"
     ]
    }
   ],
   "source": [
    "print('size of meta data for smart dataset: {}'.format(meta_data.shape))\n",
    "print('size of resnet features for smart dataset: {}'.format(features.shape))\n",
    "print('size of encoder features for smart dataset: {}'.format(encoder_data.shape))"
   ]
  },
  {
   "cell_type": "code",
   "execution_count": 27,
   "metadata": {},
   "outputs": [
    {
     "name": "stdout",
     "output_type": "stream",
     "text": [
      "size of the merged dataset: (4203, 2056)\n"
     ]
    },
    {
     "name": "stderr",
     "output_type": "stream",
     "text": [
      "/usr/local/lib/python3.5/dist-packages/matplotlib/axes/_axes.py:6462: UserWarning: The 'normed' kwarg is deprecated, and has been replaced by the 'density' kwarg.\n",
      "  warnings.warn(\"The 'normed' kwarg is deprecated, and has been \"\n"
     ]
    },
    {
     "data": {
      "image/png": "[encoded data removed]",
      "text/plain": [
       "<Figure size 432x288 with 1 Axes>"
      ]
     },
     "metadata": {},
     "output_type": "display_data"
    }
   ],
   "source": [
    "## We only want the photo id, Gender, age, and mam hot-encoder columns, drop duplicate (duplicate samples info were the same)\n",
    "select_cols=['photo_id','gender_male', 'age_months','maln_mam','maln_normal','maln_sam', 'wfh', 'maln_class']\n",
    "merged_df=pd.merge(features, meta_data[select_cols], on=\"photo_id\")\n",
    "print('size of the merged dataset: {}'.format(merged_df.shape))\n",
    "# merged_df.head()\n",
    "splot = sns.distplot(meta_data['wfh'], bins=200, kde=False)  # kde_kws={'linewidth':1.0})\n",
    "plt.xticks(np.arange(-10,11), rotation=45)\n",
    "splot.axvline(x=-2.0, color='r', linestyle='--', linewidth=0.5)\n",
    "splot.axvline(x=-3.0, color='r', linestyle='--', linewidth=0.5)\n",
    "plt.savefig(hist_fig, dpi=400)"
   ]
  },
  {
   "cell_type": "code",
   "execution_count": 12,
   "metadata": {},
   "outputs": [
    {
     "data": {
      "text/plain": [
       "normal    3018\n",
       "mam        944\n",
       "sam        234\n",
       "Name: maln_class, dtype: int64"
      ]
     },
     "execution_count": 12,
     "metadata": {},
     "output_type": "execute_result"
    }
   ],
   "source": [
    "merged_df['maln_class'].value_counts()"
   ]
  },
  {
   "cell_type": "code",
   "execution_count": 13,
   "metadata": {},
   "outputs": [
    {
     "data": {
      "image/png": "[encoded data removed]",
      "text/plain": [
       "<Figure size 432x288 with 1 Axes>"
      ]
     },
     "metadata": {},
     "output_type": "display_data"
    }
   ],
   "source": [
    "# mln_plot = sns.distplot(meta_data['maln_class'], bins=3, kde=False)  # kde_kws={'linewidth':1.0})\n",
    "meta_data['maln_class_code'] = 0\n",
    "meta_data.loc[meta_data['maln_class'] == 'normal', 'maln_class_code'] = 2\n",
    "meta_data.loc[meta_data['maln_class'] == 'mam', 'maln_class_code'] = 1\n",
    "plt.hist(meta_data['maln_class_code'], bins=[0, 1, 2, 3], align='left', alpha=0.5)\n",
    "plt.xticks([0, 1, 2], ['SAM', 'MAM', 'Normal'])\n",
    "plt.savefig(mclass_fig, dpi=400)"
   ]
  },
  {
   "cell_type": "code",
   "execution_count": 14,
   "metadata": {},
   "outputs": [
    {
     "data": {
      "text/plain": [
       "(4196, 2056)"
      ]
     },
     "execution_count": 14,
     "metadata": {},
     "output_type": "execute_result"
    }
   ],
   "source": [
    "merged_df.shape"
   ]
  },
  {
   "cell_type": "code",
   "execution_count": 28,
   "metadata": {},
   "outputs": [],
   "source": [
    "merged_df.to_csv('/data/meron/kenya_data/meron_merged_mal(sam_mam_upsampled).csv', index=False)"
   ]
  },
  {
   "cell_type": "markdown",
   "metadata": {},
   "source": [
    "missing_data=smart_encoder_feats[(~smart_encoder_feats['photo_id'].isin(merged_df['photo_id']))].drop_duplicates('photo_id', keep='first')"
   ]
  },
  {
   "cell_type": "markdown",
   "metadata": {},
   "source": [
    "missing_data['photo_id'].to_csv('/data/meron/kenya_data/missing_photo_id.csv', index=False)"
   ]
  },
  {
   "cell_type": "markdown",
   "metadata": {},
   "source": [
    "# merge data for WFH"
   ]
  },
  {
   "cell_type": "code",
   "execution_count": 13,
   "metadata": {},
   "outputs": [
    {
     "name": "stdout",
     "output_type": "stream",
     "text": [
      "size of the merged dataset: (3594, 2052)\n"
     ]
    }
   ],
   "source": [
    "select_cols2=['photo_id','gender_male', 'age_months', 'wfh']\n",
    "merged_df_wfh=pd.merge(features, meta_data[select_cols2], on=\"photo_id\").drop_duplicates('photo_id', keep='first')\n",
    "print('size of the merged dataset: {}'.format(merged_df_wfh.shape))"
   ]
  },
  {
   "cell_type": "code",
   "execution_count": 14,
   "metadata": {},
   "outputs": [],
   "source": [
    "merged_df_wfh.to_csv('/data/meron/kenya_data/meron_merge_wfh.csv', index=False)"
   ]
  }
 ],
 "metadata": {
  "kernelspec": {
   "display_name": "Python 3",
   "language": "python",
   "name": "python3"
  },
  "language_info": {
   "codemirror_mode": {
    "name": "ipython",
    "version": 3
   },
   "file_extension": ".py",
   "mimetype": "text/x-python",
   "name": "python",
   "nbconvert_exporter": "python",
   "pygments_lexer": "ipython3",
   "version": "3.5.2"
  }
 },
 "nbformat": 4,
 "nbformat_minor": 2
}
